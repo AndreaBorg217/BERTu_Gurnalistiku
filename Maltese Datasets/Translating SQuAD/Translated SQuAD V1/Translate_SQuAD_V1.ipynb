{
  "cells": [
    {
      "cell_type": "markdown",
      "metadata": {
        "id": "PWdfA-xCsfl6"
      },
      "source": [
        "## Requirements"
      ]
    },
    {
      "cell_type": "code",
      "execution_count": null,
      "metadata": {
        "id": "XMK0u327c0WY"
      },
      "outputs": [],
      "source": [
        "from datasets import load_dataset\n",
        "import pandas as pd\n",
        "from tqdm import tqdm"
      ]
    },
    {
      "cell_type": "markdown",
      "metadata": {
        "id": "Qq9yhGnMsigF"
      },
      "source": [
        "## Obtaining a spreadsheet of text which needs to be translated"
      ]
    },
    {
      "cell_type": "code",
      "execution_count": null,
      "metadata": {
        "id": "EsjCKnchdDAQ"
      },
      "outputs": [],
      "source": [
        "squad = load_dataset(\"squad\")"
      ]
    },
    {
      "cell_type": "code",
      "execution_count": null,
      "metadata": {
        "id": "IRhJ41lW0IAh"
      },
      "outputs": [],
      "source": [
        "squad[\"train\"][0]"
      ]
    },
    {
      "cell_type": "code",
      "execution_count": null,
      "metadata": {
        "id": "yDdEBnfydRJ5"
      },
      "outputs": [],
      "source": [
        "text = set()"
      ]
    },
    {
      "cell_type": "code",
      "execution_count": null,
      "metadata": {
        "id": "gSy2Bc9udT4g"
      },
      "outputs": [],
      "source": [
        "def add_to_set(row):\n",
        "  text.add(row[\"title\"])\n",
        "  text.add(row[\"question\"])\n",
        "  text.add(row[\"context\"])\n",
        "  for ans in row[\"answers\"][\"text\"]: text.add(ans)"
      ]
    },
    {
      "cell_type": "code",
      "execution_count": null,
      "metadata": {
        "id": "rsB2-NDGePhx"
      },
      "outputs": [],
      "source": [
        "squad[\"train\"].map(add_to_set)"
      ]
    },
    {
      "cell_type": "code",
      "execution_count": null,
      "metadata": {
        "id": "zIjHu4Gid1Jx"
      },
      "outputs": [],
      "source": [
        "df = pd.DataFrame(columns=[\"en\", \"mt\"])"
      ]
    },
    {
      "cell_type": "code",
      "execution_count": null,
      "metadata": {
        "id": "t7kXD2iZ2eIR"
      },
      "outputs": [],
      "source": [
        "for t in tqdm(text): df.loc[len(df.index)] = {\"en\": t, \"mt\": \"\"}"
      ]
    },
    {
      "cell_type": "code",
      "execution_count": null,
      "metadata": {
        "id": "4LI9mjgceeST"
      },
      "outputs": [],
      "source": [
        "df.to_excel(\"translated_train.xlsx\")"
      ]
    },
    {
      "cell_type": "code",
      "execution_count": null,
      "metadata": {
        "id": "w_1-6oK3elPh"
      },
      "outputs": [],
      "source": [
        "f\"Train contains {len(df)} pieces of text to translate\""
      ]
    },
    {
      "cell_type": "code",
      "execution_count": null,
      "metadata": {
        "id": "M4aWKb6aeJwx"
      },
      "outputs": [],
      "source": [
        "text = set()"
      ]
    },
    {
      "cell_type": "code",
      "execution_count": null,
      "metadata": {
        "id": "7c6PMuRreYnh"
      },
      "outputs": [],
      "source": [
        "squad[\"validation\"].map(add_to_set)"
      ]
    },
    {
      "cell_type": "code",
      "execution_count": null,
      "metadata": {
        "id": "1nejXT4Oecnu"
      },
      "outputs": [],
      "source": [
        "df = pd.DataFrame(columns=[\"en\", \"mt\"])"
      ]
    },
    {
      "cell_type": "code",
      "execution_count": null,
      "metadata": {
        "id": "RRSTxAzWecnv"
      },
      "outputs": [],
      "source": [
        "for t in tqdm(text): df.loc[len(df.index)] = {\"en\": t, \"mt\": \"\"}"
      ]
    },
    {
      "cell_type": "code",
      "execution_count": null,
      "metadata": {
        "id": "Zj07P1W3eic6"
      },
      "outputs": [],
      "source": [
        "df.to_excel(\"translated_valid.xlsx\")"
      ]
    },
    {
      "cell_type": "code",
      "execution_count": null,
      "metadata": {
        "id": "BtMuDWwletO5"
      },
      "outputs": [],
      "source": [
        "f\"Validation contains {len(df)} pieces of text to translate\""
      ]
    },
    {
      "cell_type": "markdown",
      "metadata": {
        "id": "MoOJugKkhQN1"
      },
      "source": [
        "Enter the output spreasheets into Google Sheets and use the ```GOOGLETRANSLATE(text, source language, target language)```"
      ]
    },
    {
      "cell_type": "markdown",
      "metadata": {
        "id": "2Cuk15D_rDEx"
      },
      "source": [
        "Import the resulting spreadhsheet"
      ]
    },
    {
      "cell_type": "markdown",
      "metadata": {
        "id": "Q0Q3PSzqrjgz"
      },
      "source": [
        "## Translating train"
      ]
    },
    {
      "cell_type": "code",
      "execution_count": null,
      "metadata": {
        "id": "WIsCxDTYio7O"
      },
      "outputs": [],
      "source": [
        "squad = load_dataset(\"squad\", download_mode='force_redownload')"
      ]
    },
    {
      "cell_type": "code",
      "execution_count": null,
      "metadata": {
        "id": "B0qwkq8PQj34"
      },
      "outputs": [],
      "source": [
        "# translations = pd.read_excel(\"translated_train.xlsx\")\n",
        "translations = pd.concat([pd.read_excel(\"translated_train.xlsx\"), pd.read_excel(\"squad_v1_train_errors.xlsx\"), pd.read_excel(\"squad_v1_train_errors (1).xlsx\")], ignore_index=True)"
      ]
    },
    {
      "cell_type": "code",
      "execution_count": null,
      "metadata": {
        "id": "jz0FiJmAbpcT"
      },
      "outputs": [],
      "source": [
        "assert len((translations['en'].where(translations['mt'] == '#VALUE!').dropna().values)) == 0"
      ]
    },
    {
      "cell_type": "code",
      "execution_count": null,
      "metadata": {
        "id": "A2_SvzUSQuSQ"
      },
      "outputs": [],
      "source": [
        "en_mt_dict = dict()"
      ]
    },
    {
      "cell_type": "code",
      "execution_count": null,
      "metadata": {
        "id": "utjDM50iQvmH"
      },
      "outputs": [],
      "source": [
        "for index, row in translations.iterrows():\n",
        "   en_mt_dict.update({str(row[\"en\"]): str(row[\"mt\"])})"
      ]
    },
    {
      "cell_type": "code",
      "execution_count": null,
      "metadata": {
        "id": "KDRdUs00Qxj_"
      },
      "outputs": [],
      "source": [
        "def translate_row(row):\n",
        "    row['title'] = en_mt_dict.get(str(row['title']))\n",
        "    row['context'] = en_mt_dict.get(str(row['context']))\n",
        "    row['question'] = en_mt_dict.get(str(row['question']))\n",
        "    row['answers']['text'][0] = en_mt_dict.get(str(row['answers']['text'][0]))\n",
        "    return row"
      ]
    },
    {
      "cell_type": "code",
      "execution_count": null,
      "metadata": {
        "id": "dRCovGpyQyF_"
      },
      "outputs": [],
      "source": [
        "squad[\"train\"] = squad[\"train\"].map(translate_row)"
      ]
    },
    {
      "cell_type": "code",
      "execution_count": null,
      "metadata": {
        "id": "4rBCF0OwQ0cP"
      },
      "outputs": [],
      "source": [
        "def update_answer_start(row):\n",
        "    if row['context'] is not None and row['answers']['text'][0] is not None:\n",
        "        corpus = row['context'].lower()\n",
        "        substring = row['answers']['text'][0].lower()\n",
        "        row['answers']['answer_start'][0] = corpus.find(substring)\n",
        "        return row\n",
        "    row['answers']['answer_start'][0] = -1\n",
        "    return row"
      ]
    },
    {
      "cell_type": "code",
      "execution_count": null,
      "metadata": {
        "id": "1kGB6xONQ1mf"
      },
      "outputs": [],
      "source": [
        "squad[\"train\"] = squad[\"train\"].map(update_answer_start)"
      ]
    },
    {
      "cell_type": "code",
      "execution_count": null,
      "metadata": {
        "id": "gdOXkKDoQ3ov"
      },
      "outputs": [],
      "source": [
        "squad[\"train\"] = squad[\"train\"].filter(\n",
        "    lambda row:\n",
        "    (row[\"id\"] and row[\"title\"] and row[\"context\"] and row[\"question\"] and row['answers']['text'][0] and row['answers']['answer_start'][0])\n",
        "    and\n",
        "    (row['question'][-1] == \"?\")\n",
        "    and\n",
        "    (row['answers']['answer_start'][0] != -1)\n",
        "    and\n",
        "    (\n",
        "        row['context'][row['answers']['answer_start'][0] : row['answers']['answer_start'][0] + len(row['answers']['text'][0])].lower()\n",
        "        ==\n",
        "        row['answers']['text'][0].lower()\n",
        "    )\n",
        ")"
      ]
    },
    {
      "cell_type": "code",
      "execution_count": null,
      "metadata": {
        "id": "GLSvnAIEEVi4"
      },
      "outputs": [],
      "source": [
        "len(squad[\"train\"].filter(lambda row: len(row['answers']['text']) > 0))"
      ]
    },
    {
      "cell_type": "code",
      "execution_count": null,
      "metadata": {
        "id": "m0ax5Xv3EVi4"
      },
      "outputs": [],
      "source": [
        "len(squad[\"train\"].filter(lambda row: len(row['answers']['text']) == 0))"
      ]
    },
    {
      "cell_type": "code",
      "execution_count": null,
      "metadata": {
        "id": "jP1w7j4ndX2O"
      },
      "outputs": [],
      "source": [
        "len(squad[\"train\"])"
      ]
    },
    {
      "cell_type": "markdown",
      "metadata": {
        "id": "8baVVTxSSeww"
      },
      "source": [
        "## Errors in train"
      ]
    },
    {
      "cell_type": "code",
      "execution_count": null,
      "metadata": {
        "id": "E5XFxa564R8T"
      },
      "outputs": [],
      "source": [
        "translated = squad[\"train\"]"
      ]
    },
    {
      "cell_type": "code",
      "execution_count": null,
      "metadata": {
        "id": "nR93Cr9X38jx"
      },
      "outputs": [],
      "source": [
        "original = load_dataset(\"squad\", split=\"train\", download_mode='force_redownload')"
      ]
    },
    {
      "cell_type": "code",
      "execution_count": null,
      "metadata": {
        "id": "OEFZJi6B4DV3"
      },
      "outputs": [],
      "source": [
        "all_ids = set()"
      ]
    },
    {
      "cell_type": "code",
      "execution_count": null,
      "metadata": {
        "id": "VzDD6YM54Goa"
      },
      "outputs": [],
      "source": [
        "def add_to_all(row):\n",
        "  all_ids.add(row[\"id\"])"
      ]
    },
    {
      "cell_type": "code",
      "execution_count": null,
      "metadata": {
        "id": "VW3nU9QK4Mth"
      },
      "outputs": [],
      "source": [
        "original.map(add_to_all)"
      ]
    },
    {
      "cell_type": "code",
      "execution_count": null,
      "metadata": {
        "id": "d1h0fVQV4Vcf"
      },
      "outputs": [],
      "source": [
        "translated_ids = set()"
      ]
    },
    {
      "cell_type": "code",
      "execution_count": null,
      "metadata": {
        "id": "_rEfKggQ4cX4"
      },
      "outputs": [],
      "source": [
        "def add_to_translated(row):\n",
        "  translated_ids.add(row[\"id\"])"
      ]
    },
    {
      "cell_type": "code",
      "execution_count": null,
      "metadata": {
        "id": "PfL57aVt4cX4"
      },
      "outputs": [],
      "source": [
        "translated.map(add_to_translated)"
      ]
    },
    {
      "cell_type": "code",
      "execution_count": null,
      "metadata": {
        "id": "P9OP4qLK4gw5"
      },
      "outputs": [],
      "source": [
        "errors = {id for id in all_ids if id not in translated_ids}"
      ]
    },
    {
      "cell_type": "code",
      "execution_count": null,
      "metadata": {
        "id": "rs3nVTvy4r4X"
      },
      "outputs": [],
      "source": [
        "error_entries = original.filter(lambda row: row[\"id\"] in errors)"
      ]
    },
    {
      "cell_type": "code",
      "execution_count": null,
      "metadata": {
        "id": "BbL9NZQgeRv5"
      },
      "outputs": [],
      "source": [
        "len(error_entries)"
      ]
    },
    {
      "cell_type": "code",
      "execution_count": null,
      "metadata": {
        "id": "JkJl_mdHSOBb"
      },
      "outputs": [],
      "source": [
        "error_table = pd.DataFrame(columns=[\"en\", \"mt\"])"
      ]
    },
    {
      "cell_type": "code",
      "execution_count": null,
      "metadata": {
        "id": "32wOLQgySm-i"
      },
      "outputs": [],
      "source": [
        "text = set()"
      ]
    },
    {
      "cell_type": "code",
      "execution_count": null,
      "metadata": {
        "id": "Z8iDR0DySdjL"
      },
      "outputs": [],
      "source": [
        "def add_to_set(row):\n",
        "  text.add(row[\"title\"])\n",
        "  text.add(row[\"question\"])\n",
        "  text.add(row[\"context\"])\n",
        "  for ans in row[\"answers\"][\"text\"]: text.add(ans)"
      ]
    },
    {
      "cell_type": "code",
      "execution_count": null,
      "metadata": {
        "id": "0ljrGyJfSuG6"
      },
      "outputs": [],
      "source": [
        "error_entries.map(add_to_set)"
      ]
    },
    {
      "cell_type": "code",
      "execution_count": null,
      "metadata": {
        "id": "hqvvy5vHSoYM"
      },
      "outputs": [],
      "source": [
        "for t in tqdm(text): error_table.loc[len(error_table.index)] = {\"en\": t, \"mt\": \"\"}"
      ]
    },
    {
      "cell_type": "code",
      "execution_count": null,
      "metadata": {
        "id": "i8FMVgzhTetG"
      },
      "outputs": [],
      "source": [
        "error_table.to_excel(\"squad_v1_train_errors.xlsx\", index=False)"
      ]
    },
    {
      "cell_type": "markdown",
      "metadata": {
        "id": "EkvHSrC9T5_n"
      },
      "source": [
        "Translate the errors and concatenate to the translations DataFrame. Then run \"Translating Train\" again"
      ]
    },
    {
      "cell_type": "code",
      "execution_count": null,
      "metadata": {
        "id": "0BSPDuC-VgkV"
      },
      "outputs": [],
      "source": [
        "error_table = pd.read_excel(\"squad_v1_train_errors.xlsx\")"
      ]
    },
    {
      "cell_type": "code",
      "execution_count": null,
      "metadata": {
        "id": "WOq4fgcZZrjr"
      },
      "outputs": [],
      "source": [
        "assert len((error_table['en'].where(error_table['mt'] == '#VALUE!').dropna().values)) == 0"
      ]
    },
    {
      "cell_type": "code",
      "execution_count": null,
      "metadata": {
        "id": "GmRpzOFlVa2E"
      },
      "outputs": [],
      "source": [
        "translations = pd.concat([translations, error_table], ignore_index=True)"
      ]
    },
    {
      "cell_type": "code",
      "execution_count": null,
      "metadata": {
        "id": "cv-MjgvsaMii"
      },
      "outputs": [],
      "source": [
        "translations.to_excel(\"translated_train.xlsx\", index=False)"
      ]
    },
    {
      "cell_type": "markdown",
      "metadata": {
        "id": "T5tTlW2zr4YN"
      },
      "source": [
        "## Translating validation"
      ]
    },
    {
      "cell_type": "code",
      "execution_count": null,
      "metadata": {
        "id": "Wndd-ZcY7pg3"
      },
      "outputs": [],
      "source": [
        "valid = load_dataset(\"squad\", split=\"validation\", download_mode='force_redownload')"
      ]
    },
    {
      "cell_type": "code",
      "execution_count": null,
      "metadata": {
        "id": "Ee6MkajvQ70n"
      },
      "outputs": [],
      "source": [
        "translations = pd.read_excel(\"translated_valid.xlsx\")"
      ]
    },
    {
      "cell_type": "code",
      "execution_count": null,
      "metadata": {
        "id": "maokNlkIQ-WX"
      },
      "outputs": [],
      "source": [
        "en_mt_dict = dict()"
      ]
    },
    {
      "cell_type": "code",
      "execution_count": null,
      "metadata": {
        "id": "PttAOufGRAQP"
      },
      "outputs": [],
      "source": [
        "for index, row in translations.iterrows():\n",
        "    en_mt_dict.update({str(row[\"en\"]): str(row[\"mt\"])})"
      ]
    },
    {
      "cell_type": "code",
      "execution_count": null,
      "metadata": {
        "id": "Md0CEfdZRByP"
      },
      "outputs": [],
      "source": [
        "def translate_row(row):\n",
        "    row['title'] = en_mt_dict.get(str(row['title']))\n",
        "    row['context'] = en_mt_dict.get(str(row['context']))\n",
        "    row['question'] = en_mt_dict.get(str(row['question']))\n",
        "    for entry in row['answers']['text']: entry = en_mt_dict.get(str(entry))\n",
        "    return row"
      ]
    },
    {
      "cell_type": "code",
      "execution_count": null,
      "metadata": {
        "id": "wxDzKATDjvwM"
      },
      "outputs": [],
      "source": [
        "valid = valid.map(translate_row)"
      ]
    },
    {
      "cell_type": "code",
      "execution_count": null,
      "metadata": {
        "id": "qMVcWRoGRD3X"
      },
      "outputs": [],
      "source": [
        "def update_answer_start(row):\n",
        "    if row['context'] is not None:\n",
        "        corpus = row['context'].lower()\n",
        "        starts = []\n",
        "        answers = []\n",
        "        for entry in row['answers']['text']:\n",
        "            search = corpus.find(entry.lower())\n",
        "            if search != -1:\n",
        "                answers.append(entry)\n",
        "                starts.append(search)\n",
        "        row['answers']['answer_start'] = starts\n",
        "        row['answers']['text'] = answers\n",
        "        return row\n",
        "    return row"
      ]
    },
    {
      "cell_type": "code",
      "execution_count": null,
      "metadata": {
        "id": "oePZDnAxRGEv"
      },
      "outputs": [],
      "source": [
        "valid = valid.map(update_answer_start)"
      ]
    },
    {
      "cell_type": "code",
      "execution_count": null,
      "metadata": {
        "id": "Z7hLkOs5RH0X"
      },
      "outputs": [],
      "source": [
        "def answers_start_match(row):\n",
        "    matches = []\n",
        "    for i in range(len(row['answers']['answer_start'])):\n",
        "        if row['context'][row['answers']['answer_start'][i] : row['answers']['answer_start'][i] + len(row['answers']['text'][i])].lower() == row['answers']['text'][i].lower():\n",
        "            matches.append(True)\n",
        "        else:\n",
        "            matches.append(False)\n",
        "    return matches"
      ]
    },
    {
      "cell_type": "code",
      "execution_count": null,
      "metadata": {
        "id": "Ga1pDaW3RJm-"
      },
      "outputs": [],
      "source": [
        "valid = valid.filter(\n",
        "    lambda row:\n",
        "    (row[\"id\"] and row[\"title\"] and row[\"context\"] and row[\"question\"])\n",
        "    and\n",
        "    (len(row['answers']['text']) > 0 and len(row['answers']['answer_start']) > 0)\n",
        "    and\n",
        "    (row['question'][-1] == \"?\")\n",
        "    and\n",
        "    (all(entry is True for entry in answers_start_match(row)))\n",
        ")"
      ]
    },
    {
      "cell_type": "code",
      "execution_count": null,
      "metadata": {
        "id": "Ox_vfxkNTg90"
      },
      "outputs": [],
      "source": [
        "len(valid.filter(lambda row: len(row['answers']['text']) > 0))"
      ]
    },
    {
      "cell_type": "code",
      "execution_count": null,
      "metadata": {
        "id": "n4QJSEI9TpEy"
      },
      "outputs": [],
      "source": [
        "len(valid.filter(lambda row: len(row['answers']['text']) == 0))"
      ]
    },
    {
      "cell_type": "code",
      "execution_count": null,
      "metadata": {
        "id": "6cfBNLH-75XO"
      },
      "outputs": [],
      "source": [
        "squad[\"validation\"] = valid"
      ]
    },
    {
      "cell_type": "code",
      "execution_count": null,
      "metadata": {
        "id": "eWKUWItiAxZQ"
      },
      "outputs": [],
      "source": [
        "len(squad[\"validation\"])"
      ]
    },
    {
      "cell_type": "markdown",
      "metadata": {
        "id": "c0A-dJRqwWD7"
      },
      "source": [
        "## Errors in validation"
      ]
    },
    {
      "cell_type": "code",
      "execution_count": null,
      "metadata": {
        "id": "xQw25mdpwWD7"
      },
      "outputs": [],
      "source": [
        "original = load_dataset(\"squad\", split=\"validation\", download_mode='force_redownload')"
      ]
    },
    {
      "cell_type": "code",
      "execution_count": null,
      "metadata": {
        "id": "rsn8G9v8wWD7"
      },
      "outputs": [],
      "source": [
        "all_ids = set()"
      ]
    },
    {
      "cell_type": "code",
      "execution_count": null,
      "metadata": {
        "id": "q3G_zDN6wWD8"
      },
      "outputs": [],
      "source": [
        "def add_to_all(row):\n",
        "  all_ids.add(row[\"id\"])"
      ]
    },
    {
      "cell_type": "code",
      "execution_count": null,
      "metadata": {
        "id": "5jvujhKEwWD8"
      },
      "outputs": [],
      "source": [
        "original.map(add_to_all)"
      ]
    },
    {
      "cell_type": "code",
      "execution_count": null,
      "metadata": {
        "id": "kYKohZiLwWD8"
      },
      "outputs": [],
      "source": [
        "translated_ids = set()"
      ]
    },
    {
      "cell_type": "code",
      "execution_count": null,
      "metadata": {
        "id": "iKF10f8kwWD8"
      },
      "outputs": [],
      "source": [
        "def add_to_translated(row):\n",
        "  translated_ids.add(row[\"id\"])"
      ]
    },
    {
      "cell_type": "code",
      "execution_count": null,
      "metadata": {
        "id": "If5pcBGDwWD8"
      },
      "outputs": [],
      "source": [
        "valid.map(add_to_translated)"
      ]
    },
    {
      "cell_type": "code",
      "execution_count": null,
      "metadata": {
        "id": "XijYKTq-wWD8"
      },
      "outputs": [],
      "source": [
        "errors = {id for id in all_ids if id not in translated_ids}"
      ]
    },
    {
      "cell_type": "code",
      "execution_count": null,
      "metadata": {
        "id": "sN1Y0qSMwWD8"
      },
      "outputs": [],
      "source": [
        "error_entries = original.filter(lambda row: row[\"id\"] in errors)"
      ]
    },
    {
      "cell_type": "code",
      "execution_count": null,
      "metadata": {
        "id": "LNjVkTPpwWD8"
      },
      "outputs": [],
      "source": [
        "len(error_entries)"
      ]
    },
    {
      "cell_type": "code",
      "execution_count": null,
      "metadata": {
        "id": "8Pf7DVU8wWD8"
      },
      "outputs": [],
      "source": [
        "error_table = pd.DataFrame(columns=[\"en\", \"mt\"])"
      ]
    },
    {
      "cell_type": "code",
      "execution_count": null,
      "metadata": {
        "id": "gIi_128EwWD8"
      },
      "outputs": [],
      "source": [
        "text = set()"
      ]
    },
    {
      "cell_type": "code",
      "execution_count": null,
      "metadata": {
        "id": "BELyBCvnwWD9"
      },
      "outputs": [],
      "source": [
        "def add_to_set(row):\n",
        "  text.add(row[\"title\"])\n",
        "  text.add(row[\"question\"])\n",
        "  text.add(row[\"context\"])\n",
        "  for ans in row[\"answers\"][\"text\"]: text.add(ans)"
      ]
    },
    {
      "cell_type": "code",
      "execution_count": null,
      "metadata": {
        "id": "ARn6tTdhwWD9"
      },
      "outputs": [],
      "source": [
        "error_entries.map(add_to_set)"
      ]
    },
    {
      "cell_type": "code",
      "execution_count": null,
      "metadata": {
        "id": "jqIObCo0wWD9"
      },
      "outputs": [],
      "source": [
        "for t in tqdm(text): error_table.loc[len(error_table.index)] = {\"en\": t, \"mt\": \"\"}"
      ]
    },
    {
      "cell_type": "code",
      "execution_count": null,
      "metadata": {
        "id": "t2H34-xLwWD9"
      },
      "outputs": [],
      "source": [
        "error_table.to_excel(\"squad_v1_valid_errors.xlsx\", index=False)"
      ]
    },
    {
      "cell_type": "markdown",
      "metadata": {
        "id": "1oGuOF7iwWD9"
      },
      "source": [
        "Translate the errors and concatenate to the translations DataFrame. Then run \"Translating Train\" again"
      ]
    },
    {
      "cell_type": "code",
      "execution_count": null,
      "metadata": {
        "id": "aKA6NymHwWD9"
      },
      "outputs": [],
      "source": [
        "error_table = pd.read_excel(\"squad_v1_valid_errors.xlsx\")"
      ]
    },
    {
      "cell_type": "code",
      "execution_count": null,
      "metadata": {
        "id": "QTRiqLlDwWD9"
      },
      "outputs": [],
      "source": [
        "assert len((error_table['en'].where(error_table['mt'] == '#VALUE!').dropna().values)) == 0"
      ]
    },
    {
      "cell_type": "code",
      "execution_count": null,
      "metadata": {
        "id": "DMv0su2HwWD9"
      },
      "outputs": [],
      "source": [
        "translations = pd.concat([translations, error_table], ignore_index=True)"
      ]
    },
    {
      "cell_type": "code",
      "execution_count": null,
      "metadata": {
        "id": "ZlEfUTp1wWD9"
      },
      "outputs": [],
      "source": [
        "translations.to_excel(\"translated_valid.xlsx\", index=False)"
      ]
    },
    {
      "cell_type": "markdown",
      "metadata": {
        "id": "RJxbMZh8sT91"
      },
      "source": [
        "## Export dataset"
      ]
    },
    {
      "cell_type": "code",
      "execution_count": null,
      "metadata": {
        "id": "I7mWEpwX8G_b"
      },
      "outputs": [],
      "source": [
        "squad"
      ]
    },
    {
      "cell_type": "code",
      "execution_count": null,
      "metadata": {
        "id": "CjarMr5YsWQK"
      },
      "outputs": [],
      "source": [
        "squad.save_to_disk(\"SQuAD_V1\")"
      ]
    },
    {
      "cell_type": "code",
      "execution_count": null,
      "metadata": {
        "id": "hHLqG6YAwPT5"
      },
      "outputs": [],
      "source": [
        "# Download as JSON\n",
        "for split, dataset in squad.items():\n",
        "    dataset.to_json(f\"squad-v1-{split}.json\")"
      ]
    }
  ],
  "metadata": {
    "colab": {
      "collapsed_sections": [
        "PWdfA-xCsfl6",
        "Q0Q3PSzqrjgz",
        "8baVVTxSSeww",
        "RJxbMZh8sT91"
      ],
      "provenance": []
    },
    "kernelspec": {
      "display_name": "Python 3",
      "name": "python3"
    },
    "language_info": {
      "name": "python"
    }
  },
  "nbformat": 4,
  "nbformat_minor": 0
}

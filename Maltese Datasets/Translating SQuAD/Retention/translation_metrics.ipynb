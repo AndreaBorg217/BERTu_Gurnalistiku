{
 "cells": [
  {
   "cell_type": "code",
   "execution_count": 12,
   "metadata": {},
   "outputs": [],
   "source": [
    "from datasets import load_dataset, Dataset\n",
    "import json"
   ]
  },
  {
   "cell_type": "markdown",
   "metadata": {},
   "source": [
    "## SQuAD V1"
   ]
  },
  {
   "cell_type": "code",
   "execution_count": 13,
   "metadata": {},
   "outputs": [],
   "source": [
    "original_squad_v1 = load_dataset(\"squad\")\n",
    "original_v1_train = original_squad_v1['train']\n",
    "original_v1_valid = original_squad_v1['validation']"
   ]
  },
  {
   "cell_type": "code",
   "execution_count": 14,
   "metadata": {},
   "outputs": [],
   "source": [
    "translated_train_v1 = Dataset.from_file(\"./SQuAD V1 Translated/squad_v1_train.arrow\")\n",
    "translated_valid_v1 = Dataset.from_file(\"./SQuAD V1 Translated/squad_v1_valid.arrow\")"
   ]
  },
  {
   "cell_type": "code",
   "execution_count": 15,
   "metadata": {},
   "outputs": [],
   "source": [
    "original_v1_train_len = len(original_v1_train)\n",
    "original_v1_valid_len = len(original_v1_valid)\n",
    "translated_train_v1_len = len(translated_train_v1)\n",
    "translated_valid_v1_len = len(translated_valid_v1)\n",
    "train_retention_v1 = translated_train_v1_len / original_v1_train_len * 100\n",
    "valid_retention_v1 = translated_valid_v1_len / original_v1_valid_len * 100"
   ]
  },
  {
   "cell_type": "code",
   "execution_count": 16,
   "metadata": {},
   "outputs": [
    {
     "name": "stdout",
     "output_type": "stream",
     "text": [
      "\n",
      "    Original SQuAD V1 contains:\n",
      "      - Train = 87599\n",
      "      - Valid = 10570\n",
      "    Translated SQuAD V1 contains:\n",
      "      - Train = 58542\n",
      "      - Valid = 3669\n",
      "    Retention when translating SQuAD V1:\n",
      "      - Train = 66.83\n",
      "      - Valid = 34.71\n",
      "\n"
     ]
    }
   ],
   "source": [
    "print(f\"\"\"\n",
    "    Original SQuAD V1 contains:\n",
    "      - Train = {original_v1_train_len}\n",
    "      - Valid = {original_v1_valid_len}\n",
    "    Translated SQuAD V1 contains:\n",
    "      - Train = {translated_train_v1_len}\n",
    "      - Valid = {translated_valid_v1_len}\n",
    "    Retention when translating SQuAD V1:\n",
    "      - Train = {train_retention_v1 :.2f}\n",
    "      - Valid = {valid_retention_v1 :.2f}\n",
    "\"\"\")"
   ]
  },
  {
   "cell_type": "code",
   "execution_count": 17,
   "metadata": {},
   "outputs": [],
   "source": [
    "data = {\n",
    "    \"Original SQuAD V1\": {\n",
    "        \"Train\": original_v1_train_len,\n",
    "        \"Valid\": original_v1_valid_len\n",
    "    },\n",
    "    \"Translated SQuAD V1\": {\n",
    "        \"Train\": translated_train_v1_len,\n",
    "        \"Valid\": translated_valid_v1_len\n",
    "    },\n",
    "    \"Retention when translating SQuAD V1\": {\n",
    "        \"Train\": f\"{train_retention_v1:.2f}\",\n",
    "        \"Valid\": f\"{valid_retention_v1:.2f}\"\n",
    "    }\n",
    "}\n",
    "\n",
    "with open('squad_v1_stats.json', 'w') as f:\n",
    "    json.dump(data, f, indent=4)"
   ]
  },
  {
   "cell_type": "markdown",
   "metadata": {},
   "source": [
    "## SQuAD V2"
   ]
  },
  {
   "cell_type": "code",
   "execution_count": 18,
   "metadata": {},
   "outputs": [
    {
     "data": {
      "application/vnd.jupyter.widget-view+json": {
       "model_id": "0fba4d5a955d440cb97f294fa118969c",
       "version_major": 2,
       "version_minor": 0
      },
      "text/plain": [
       "Filter:   0%|          | 0/130319 [00:00<?, ? examples/s]"
      ]
     },
     "metadata": {},
     "output_type": "display_data"
    },
    {
     "data": {
      "application/vnd.jupyter.widget-view+json": {
       "model_id": "979c45d61c6b4db8aaef2ae91bf99d8c",
       "version_major": 2,
       "version_minor": 0
      },
      "text/plain": [
       "Filter:   0%|          | 0/130319 [00:00<?, ? examples/s]"
      ]
     },
     "metadata": {},
     "output_type": "display_data"
    },
    {
     "data": {
      "application/vnd.jupyter.widget-view+json": {
       "model_id": "e4185d78b9d24e428271d8f8da331d62",
       "version_major": 2,
       "version_minor": 0
      },
      "text/plain": [
       "Filter:   0%|          | 0/11873 [00:00<?, ? examples/s]"
      ]
     },
     "metadata": {},
     "output_type": "display_data"
    },
    {
     "data": {
      "application/vnd.jupyter.widget-view+json": {
       "model_id": "c7afb72f5c2a41fa8bd0a7b530739792",
       "version_major": 2,
       "version_minor": 0
      },
      "text/plain": [
       "Filter:   0%|          | 0/11873 [00:00<?, ? examples/s]"
      ]
     },
     "metadata": {},
     "output_type": "display_data"
    }
   ],
   "source": [
    "original_squad_v2 = load_dataset(\"squad_v2\")\n",
    "\n",
    "original_v2_train = original_squad_v2['train']\n",
    "original_v2_train_ans = original_v2_train.filter(lambda row: len(row['answers']['text']) != 0)\n",
    "original_v2_train_impossible =  original_v2_train.filter(lambda row: len(row['answers']['text']) == 0)\n",
    "original_v2_valid = original_squad_v2['validation']\n",
    "original_v2_valid_ans = original_v2_valid.filter(lambda row: len(row['answers']['text']) != 0)\n",
    "original_v2_valid_impossible =  original_v2_valid.filter(lambda row: len(row['answers']['text'] )== 0)"
   ]
  },
  {
   "cell_type": "code",
   "execution_count": 19,
   "metadata": {},
   "outputs": [
    {
     "data": {
      "application/vnd.jupyter.widget-view+json": {
       "model_id": "3066db4aa1e942e1b879018243e0c3d3",
       "version_major": 2,
       "version_minor": 0
      },
      "text/plain": [
       "Filter:   0%|          | 0/102107 [00:00<?, ? examples/s]"
      ]
     },
     "metadata": {},
     "output_type": "display_data"
    },
    {
     "data": {
      "application/vnd.jupyter.widget-view+json": {
       "model_id": "b178ed6af3e646ad8bb40f882578a453",
       "version_major": 2,
       "version_minor": 0
      },
      "text/plain": [
       "Filter:   0%|          | 0/102107 [00:00<?, ? examples/s]"
      ]
     },
     "metadata": {},
     "output_type": "display_data"
    },
    {
     "data": {
      "application/vnd.jupyter.widget-view+json": {
       "model_id": "ad30daac5274449b80d028cea399358d",
       "version_major": 2,
       "version_minor": 0
      },
      "text/plain": [
       "Filter:   0%|          | 0/10452 [00:00<?, ? examples/s]"
      ]
     },
     "metadata": {},
     "output_type": "display_data"
    },
    {
     "data": {
      "application/vnd.jupyter.widget-view+json": {
       "model_id": "f4eb9bcdd60344f28355252dfbbe0f3e",
       "version_major": 2,
       "version_minor": 0
      },
      "text/plain": [
       "Filter:   0%|          | 0/10452 [00:00<?, ? examples/s]"
      ]
     },
     "metadata": {},
     "output_type": "display_data"
    }
   ],
   "source": [
    "translated_train_v2 = Dataset.from_file(\"./SQuAD V2 Translated/squad_v2_train.arrow\")\n",
    "translated_v2_train_ans = translated_train_v2.filter(lambda row: len(row['answers']['text']) != 0)\n",
    "translated_v2_train_impossible =  translated_train_v2.filter(lambda row: len(row['answers']['text']) == 0)\n",
    "\n",
    "translated_valid_v2 = Dataset.from_file(\"./SQuAD V2 Translated/squad_v2_valid.arrow\")\n",
    "translated_v2_valid_ans = translated_valid_v2.filter(lambda row: len(row['answers']['text']) != 0)\n",
    "translated_v2_valid_impossible =  translated_valid_v2.filter(lambda row: len(row['answers']['text']) == 0)"
   ]
  },
  {
   "cell_type": "code",
   "execution_count": 20,
   "metadata": {},
   "outputs": [],
   "source": [
    "original_v2_train_len = len(original_v2_train)\n",
    "original_v2_valid_len = len(original_v2_valid)\n",
    "translated_train_v2_len = len(translated_train_v2)\n",
    "translated_valid_v2_len = len(translated_valid_v2)\n",
    "train_retention_v2 = translated_train_v2_len / original_v2_train_len * 100\n",
    "valid_retention_v2 = translated_valid_v2_len / original_v2_valid_len * 100\n",
    "\n",
    "original_v2_train_ans_len = len(original_v2_train_ans)\n",
    "original_v2_train_impossible_len = len(original_v2_train_impossible)\n",
    "original_v2_valid_ans_len = len(original_v2_valid_ans)\n",
    "original_v2_valid_impossible_len = len(original_v2_valid_impossible)\n",
    "translated_v2_train_ans_len = len(translated_v2_train_ans)\n",
    "translated_v2_train_impossible_len = len(translated_v2_train_impossible)\n",
    "translated_v2_valid_ans_len = len(translated_v2_valid_ans)\n",
    "translated_v2_valid_impossible_len = len(translated_v2_valid_impossible)\n",
    "train_ans_retention_v2 = translated_v2_train_ans_len / original_v2_train_ans_len * 100\n",
    "train_impossible_retention_v2 = translated_v2_train_impossible_len / original_v2_train_impossible_len * 100\n",
    "valid_ans_retention_v2 = translated_v2_valid_ans_len / original_v2_valid_ans_len * 100\n",
    "valid_impossible_retention_v2 = translated_v2_valid_impossible_len / original_v2_valid_impossible_len * 100\n"
   ]
  },
  {
   "cell_type": "code",
   "execution_count": 21,
   "metadata": {},
   "outputs": [
    {
     "name": "stdout",
     "output_type": "stream",
     "text": [
      "\n",
      "    Original SQuAD V2 contains:\n",
      "      - Train = 130319\n",
      "      - Valid = 11873\n",
      "      - Train (Has Ans) = 86821\n",
      "      - Train (Impossible) = 43498\n",
      "      - Valid (Has Ans) = 5928\n",
      "      - Valid (Impossible) = 5945\n",
      "    Translated SQuAD V2 contains:\n",
      "      - Train = 102107\n",
      "      - Valid = 10452\n",
      "      - Train (Has Ans) = 59006\n",
      "      - Train (Impossible) = 43101\n",
      "      - Valid (Has Ans) = 4550\n",
      "      - Valid (Impossible) = 5902\n",
      "    Retention when translating SQuAD V2:\n",
      "      - Train = 78.35\n",
      "      - Valid = 88.03\n",
      "      - Train (Has Ans) = 67.96\n",
      "      - Train (Impossible) = 99.09\n",
      "      - Valid (Has Ans) = 76.75\n",
      "      - Valid (Impossible) = 99.28\n",
      "\n"
     ]
    }
   ],
   "source": [
    "print(f\"\"\"\n",
    "    Original SQuAD V2 contains:\n",
    "      - Train = {original_v2_train_len}\n",
    "      - Valid = {original_v2_valid_len}\n",
    "      - Train (Has Ans) = {original_v2_train_ans_len}\n",
    "      - Train (Impossible) = {original_v2_train_impossible_len}\n",
    "      - Valid (Has Ans) = {original_v2_valid_ans_len}\n",
    "      - Valid (Impossible) = {original_v2_valid_impossible_len}\n",
    "    Translated SQuAD V2 contains:\n",
    "      - Train = {translated_train_v2_len}\n",
    "      - Valid = {translated_valid_v2_len}\n",
    "      - Train (Has Ans) = {translated_v2_train_ans_len}\n",
    "      - Train (Impossible) = {translated_v2_train_impossible_len}\n",
    "      - Valid (Has Ans) = {translated_v2_valid_ans_len}\n",
    "      - Valid (Impossible) = {translated_v2_valid_impossible_len}\n",
    "    Retention when translating SQuAD V2:\n",
    "      - Train = {train_retention_v2 :.2f}\n",
    "      - Valid = {valid_retention_v2 :.2f}\n",
    "      - Train (Has Ans) = {train_ans_retention_v2 :.2f}\n",
    "      - Train (Impossible) = {train_impossible_retention_v2 :.2f}\n",
    "      - Valid (Has Ans) = {valid_ans_retention_v2 :.2f}\n",
    "      - Valid (Impossible) = {valid_impossible_retention_v2 :.2f}\n",
    "\"\"\")"
   ]
  },
  {
   "cell_type": "code",
   "execution_count": 22,
   "metadata": {},
   "outputs": [],
   "source": [
    "data = {\n",
    "    \"Original SQuAD V2\": {\n",
    "        \"Train\": original_v2_train_len,\n",
    "        \"Valid\": original_v2_valid_len,\n",
    "        \"Train (Has Ans)\": original_v2_train_ans_len,\n",
    "        \"Train (Impossible)\": original_v2_train_impossible_len,\n",
    "        \"Valid (Has Ans)\": original_v2_valid_ans_len,\n",
    "        \"Valid (Impossible)\": original_v2_valid_impossible_len\n",
    "    },\n",
    "    \"Translated SQuAD V2\": {\n",
    "        \"Train\": translated_train_v2_len,\n",
    "        \"Valid\": translated_valid_v2_len,\n",
    "        \"Train (Has Ans)\": translated_v2_train_ans_len,\n",
    "        \"Train (Impossible)\": translated_v2_train_impossible_len,\n",
    "        \"Valid (Has Ans)\": translated_v2_valid_ans_len,\n",
    "        \"Valid (Impossible)\": translated_v2_valid_impossible_len\n",
    "    },\n",
    "    \"Retention when translating SQuAD V2\": {\n",
    "        \"Train\": f\"{train_retention_v2:.2f}\",\n",
    "        \"Valid\": f\"{valid_retention_v2:.2f}\",\n",
    "        \"Train (Has Ans)\": f\"{train_ans_retention_v2:.2f}\",\n",
    "        \"Train (Impossible)\": f\"{train_impossible_retention_v2:.2f}\",\n",
    "        \"Valid (Has Ans)\": f\"{valid_ans_retention_v2:.2f}\",\n",
    "        \"Valid (Impossible)\": f\"{valid_impossible_retention_v2:.2f}\"\n",
    "    }\n",
    "}\n",
    "\n",
    "with open('squad_v2_stats.json', 'w') as f:\n",
    "    json.dump(data, f, indent=4)\n"
   ]
  }
 ],
 "metadata": {
  "kernelspec": {
   "display_name": "Python 3",
   "language": "python",
   "name": "python3"
  },
  "language_info": {
   "codemirror_mode": {
    "name": "ipython",
    "version": 3
   },
   "file_extension": ".py",
   "mimetype": "text/x-python",
   "name": "python",
   "nbconvert_exporter": "python",
   "pygments_lexer": "ipython3",
   "version": "3.11.7"
  }
 },
 "nbformat": 4,
 "nbformat_minor": 2
}

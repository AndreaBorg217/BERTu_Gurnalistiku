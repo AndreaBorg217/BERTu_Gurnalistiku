{
  "cells": [
    {
      "cell_type": "markdown",
      "metadata": {
        "id": "PWdfA-xCsfl6"
      },
      "source": [
        "## Requirements"
      ]
    },
    {
      "cell_type": "code",
      "execution_count": null,
      "metadata": {
        "id": "XMK0u327c0WY"
      },
      "outputs": [],
      "source": [
        "from datasets import load_dataset\n",
        "import pandas as pd\n",
        "from tqdm import tqdm"
      ]
    },
    {
      "cell_type": "markdown",
      "metadata": {
        "id": "Qq9yhGnMsigF"
      },
      "source": [
        "## Obtaining a spreadsheet of text which needs to be translated"
      ]
    },
    {
      "cell_type": "code",
      "execution_count": null,
      "metadata": {
        "id": "EsjCKnchdDAQ"
      },
      "outputs": [],
      "source": [
        "squad = load_dataset(\"squad_v2\")"
      ]
    },
    {
      "cell_type": "code",
      "execution_count": null,
      "metadata": {
        "id": "yDdEBnfydRJ5"
      },
      "outputs": [],
      "source": [
        "text = set()"
      ]
    },
    {
      "cell_type": "code",
      "execution_count": null,
      "metadata": {
        "id": "gSy2Bc9udT4g"
      },
      "outputs": [],
      "source": [
        "def add_to_set(row):\n",
        "  text.add(row[\"title\"])\n",
        "  text.add(row[\"question\"])\n",
        "  text.add(row[\"context\"])\n",
        "  for ans in row[\"answers\"][\"text\"]: text.add(ans)"
      ]
    },
    {
      "cell_type": "code",
      "execution_count": null,
      "metadata": {
        "id": "rsB2-NDGePhx"
      },
      "outputs": [],
      "source": [
        "squad[\"train\"].map(add_to_set)"
      ]
    },
    {
      "cell_type": "code",
      "execution_count": null,
      "metadata": {
        "id": "zIjHu4Gid1Jx"
      },
      "outputs": [],
      "source": [
        "df = pd.DataFrame(columns=[\"en\", \"mt\"])"
      ]
    },
    {
      "cell_type": "code",
      "execution_count": null,
      "metadata": {
        "id": "vuB7XoCgd7cJ"
      },
      "outputs": [],
      "source": [
        "for t in tqdm(text): df.loc[len(df.index)] = {\"en\": t, \"mt\": \"\"}"
      ]
    },
    {
      "cell_type": "code",
      "execution_count": null,
      "metadata": {
        "id": "4LI9mjgceeST"
      },
      "outputs": [],
      "source": [
        "df.to_excel(\"translated_train.xlsx\")"
      ]
    },
    {
      "cell_type": "code",
      "execution_count": null,
      "metadata": {
        "id": "w_1-6oK3elPh"
      },
      "outputs": [],
      "source": [
        "f\"Train contains {len(df)} pieces of text to translate\""
      ]
    },
    {
      "cell_type": "code",
      "execution_count": null,
      "metadata": {
        "id": "M4aWKb6aeJwx"
      },
      "outputs": [],
      "source": [
        "text = set()"
      ]
    },
    {
      "cell_type": "code",
      "execution_count": null,
      "metadata": {
        "id": "7c6PMuRreYnh"
      },
      "outputs": [],
      "source": [
        "squad[\"validation\"].map(add_to_set)"
      ]
    },
    {
      "cell_type": "code",
      "execution_count": null,
      "metadata": {
        "id": "1nejXT4Oecnu"
      },
      "outputs": [],
      "source": [
        "df = pd.DataFrame(columns=[\"en\", \"mt\"])"
      ]
    },
    {
      "cell_type": "code",
      "execution_count": null,
      "metadata": {
        "id": "RRSTxAzWecnv"
      },
      "outputs": [],
      "source": [
        "for t in tqdm(text): df.loc[len(df.index)] = {\"en\": t, \"mt\": \"\"}"
      ]
    },
    {
      "cell_type": "code",
      "execution_count": null,
      "metadata": {
        "id": "Zj07P1W3eic6"
      },
      "outputs": [],
      "source": [
        "df.to_excel(\"translated_valid.xlsx\")"
      ]
    },
    {
      "cell_type": "code",
      "execution_count": null,
      "metadata": {
        "id": "BtMuDWwletO5"
      },
      "outputs": [],
      "source": [
        "f\"Validation contains {len(df)} pieces of text to translate\""
      ]
    },
    {
      "cell_type": "markdown",
      "metadata": {
        "id": "MoOJugKkhQN1"
      },
      "source": [
        "Enter the output spreasheets into Google Sheets and use the ```GOOGLETRANSLATE(text, source language, target language)```"
      ]
    },
    {
      "cell_type": "markdown",
      "metadata": {
        "id": "2Cuk15D_rDEx"
      },
      "source": [
        "Import the resulting spreadhsheet"
      ]
    },
    {
      "cell_type": "markdown",
      "metadata": {
        "id": "Q0Q3PSzqrjgz"
      },
      "source": [
        "## Translating train"
      ]
    },
    {
      "cell_type": "code",
      "execution_count": null,
      "metadata": {
        "id": "GmbrLc96VF1L"
      },
      "outputs": [],
      "source": [
        "squad = load_dataset(\"squad_v2\", download_mode=\"force_redownload\")"
      ]
    },
    {
      "cell_type": "code",
      "execution_count": null,
      "metadata": {
        "id": "pJ5fSr5Uu8bz"
      },
      "outputs": [],
      "source": [
        "def is_impossible(row):\n",
        "  if len(row[\"answers\"][\"text\"]) == 0 and len(row[\"answers\"][\"answer_start\"]) == 0:\n",
        "    row['is_impossible'] = True\n",
        "  else:\n",
        "    row[\"is_impossible\"] = False\n",
        "  return row"
      ]
    },
    {
      "cell_type": "code",
      "execution_count": null,
      "metadata": {
        "id": "yu-m9Xsou9Fv"
      },
      "outputs": [],
      "source": [
        "squad[\"train\"] = squad[\"train\"].map(is_impossible)"
      ]
    },
    {
      "cell_type": "code",
      "execution_count": null,
      "metadata": {
        "id": "2NtPtY0UshaZ"
      },
      "outputs": [],
      "source": [
        "# translations = pd.read_excel(\"translated_train.xlsx\")\n",
        "translations = pd.concat([pd.read_excel(\"translated_train.xlsx\"), pd.read_excel(\"squad_v2_train_errors.xlsx\"), pd.read_excel(\"squad_v2_train_errors (1).xlsx\"), pd.read_excel(\"squad_v2_train_errors (2).xlsx\")], ignore_index=True)"
      ]
    },
    {
      "cell_type": "code",
      "execution_count": null,
      "metadata": {
        "id": "I3pC-NtVskQs"
      },
      "outputs": [],
      "source": [
        "en_mt_dict = dict()"
      ]
    },
    {
      "cell_type": "code",
      "execution_count": null,
      "metadata": {
        "id": "21OO7RcGslv_"
      },
      "outputs": [],
      "source": [
        "for index, row in translations.iterrows():\n",
        "    en_mt_dict.update({str(row[\"en\"]): str(row[\"mt\"])})"
      ]
    },
    {
      "cell_type": "code",
      "execution_count": null,
      "metadata": {
        "id": "6YUyy5_Hsm8V"
      },
      "outputs": [],
      "source": [
        "def translate_row(row):\n",
        "    row['title'] = en_mt_dict.get(str(row['title']))\n",
        "    row['context'] = en_mt_dict.get(str(row['context']))\n",
        "    row['question'] = en_mt_dict.get(str(row['question']))\n",
        "    if row['is_impossible'] == False:\n",
        "        row['answers']['text'][0] = en_mt_dict.get(str(row['answers']['text'][0]))\n",
        "    return row"
      ]
    },
    {
      "cell_type": "code",
      "execution_count": null,
      "metadata": {
        "id": "qVTo93tCsonW"
      },
      "outputs": [],
      "source": [
        "squad[\"train\"] = squad[\"train\"].map(translate_row)"
      ]
    },
    {
      "cell_type": "code",
      "execution_count": null,
      "metadata": {
        "id": "l9bSSkwwWrWr"
      },
      "outputs": [],
      "source": [
        "nones = squad[\"train\"].filter(\n",
        "    lambda row:\n",
        "    not row[\"is_impossible\"]\n",
        "    and\n",
        "    (\n",
        "        not row[\"context\"]\n",
        "        or\n",
        "        not row[\"title\"]\n",
        "        or\n",
        "        not row[\"question\"]\n",
        "        or\n",
        "        not row[\"answers\"][\"text\"][0]\n",
        "    )\n",
        ")"
      ]
    },
    {
      "cell_type": "code",
      "execution_count": null,
      "metadata": {
        "id": "eRFqrkFXsqPR"
      },
      "outputs": [],
      "source": [
        "def update_answer_start(row):\n",
        "    if row['is_impossible'] == True: # if question had no answers\n",
        "        return row\n",
        "    if row['context'] is not None and row['answers']['text'][0] is not None:\n",
        "        corpus = row['context'].lower()\n",
        "        substring = row['answers']['text'][0].lower()\n",
        "        row['answers']['answer_start'][0] = corpus.find(substring)\n",
        "        return row\n",
        "    return row"
      ]
    },
    {
      "cell_type": "code",
      "execution_count": null,
      "metadata": {
        "id": "xDyRebUNsr9a"
      },
      "outputs": [],
      "source": [
        "squad[\"train\"] = squad[\"train\"].map(update_answer_start)"
      ]
    },
    {
      "cell_type": "code",
      "execution_count": null,
      "metadata": {
        "id": "64DnMDtIR1xc"
      },
      "outputs": [],
      "source": [
        "def answer_match(row):\n",
        "    if row['is_impossible'] == True or not row[\"context\"] or any(entry is None for entry in row['answers']['text']):\n",
        "        return True\n",
        "    if row['context'][row['answers']['answer_start'][0] : row['answers']['answer_start'][0] + len(row['answers']['text'][0])].lower() == row['answers']['text'][0].lower():\n",
        "        return True\n",
        "    return False"
      ]
    },
    {
      "cell_type": "code",
      "execution_count": null,
      "metadata": {
        "id": "w8kee2OkstZl"
      },
      "outputs": [],
      "source": [
        "squad[\"train\"] = squad[\"train\"].filter(\n",
        "    lambda row:\n",
        "    (row[\"id\"] and row[\"title\"] and row[\"context\"] and row[\"question\"])\n",
        "    and\n",
        "    (row['question'][-1] == \"?\")\n",
        "    and\n",
        "    (answer_match(row) is True) # check if row has answers if they match\n",
        "    and\n",
        "    any(entry is None for entry in row['answers']['text']) == False\n",
        "    and\n",
        "    (all(entry > -1 for entry in row[\"answers\"][\"answer_start\"]))\n",
        ")"
      ]
    },
    {
      "cell_type": "code",
      "execution_count": null,
      "metadata": {
        "id": "A3yASFkHuONX"
      },
      "outputs": [],
      "source": [
        "squad[\"train\"] = squad[\"train\"].filter(\n",
        "    lambda row:\n",
        "    ((row[\"is_impossible\"] is False) and (len(row[\"answers\"][\"text\"]) > 0))\n",
        "    or\n",
        "    ((row[\"is_impossible\"] is True) and (len(row[\"answers\"][\"text\"]) == 0))\n",
        ")"
      ]
    },
    {
      "cell_type": "code",
      "execution_count": null,
      "metadata": {
        "id": "uu0qoLScozYs"
      },
      "outputs": [],
      "source": [
        "len(squad[\"train\"].filter(lambda row: len(row['answers']['text']) > 0))"
      ]
    },
    {
      "cell_type": "code",
      "execution_count": null,
      "metadata": {
        "id": "5INQ-LVHozYs"
      },
      "outputs": [],
      "source": [
        "len(squad[\"train\"].filter(lambda row: len(row['answers']['text']) == 0))"
      ]
    },
    {
      "cell_type": "code",
      "execution_count": null,
      "metadata": {
        "id": "1FNaujl87jYz"
      },
      "outputs": [],
      "source": [
        "squad[\"train\"] = squad[\"train\"].remove_columns(\"is_impossible\")"
      ]
    },
    {
      "cell_type": "code",
      "execution_count": null,
      "metadata": {
        "id": "ayCPhk67dKiM"
      },
      "outputs": [],
      "source": [
        "len(squad[\"train\"])"
      ]
    },
    {
      "cell_type": "markdown",
      "metadata": {
        "id": "8baVVTxSSeww"
      },
      "source": [
        "## Errors in train"
      ]
    },
    {
      "cell_type": "code",
      "execution_count": null,
      "metadata": {
        "id": "E5XFxa564R8T"
      },
      "outputs": [],
      "source": [
        "translated = squad[\"train\"]"
      ]
    },
    {
      "cell_type": "code",
      "execution_count": null,
      "metadata": {
        "id": "nR93Cr9X38jx"
      },
      "outputs": [],
      "source": [
        "original = load_dataset(\"squad_v2\", split=\"train\", download_mode='force_redownload')"
      ]
    },
    {
      "cell_type": "code",
      "execution_count": null,
      "metadata": {
        "id": "OEFZJi6B4DV3"
      },
      "outputs": [],
      "source": [
        "all_ids = set()"
      ]
    },
    {
      "cell_type": "code",
      "execution_count": null,
      "metadata": {
        "id": "VzDD6YM54Goa"
      },
      "outputs": [],
      "source": [
        "def add_to_all(row):\n",
        "  all_ids.add(row[\"id\"])"
      ]
    },
    {
      "cell_type": "code",
      "execution_count": null,
      "metadata": {
        "id": "VW3nU9QK4Mth"
      },
      "outputs": [],
      "source": [
        "original.map(add_to_all)"
      ]
    },
    {
      "cell_type": "code",
      "execution_count": null,
      "metadata": {
        "id": "d1h0fVQV4Vcf"
      },
      "outputs": [],
      "source": [
        "translated_ids = set()"
      ]
    },
    {
      "cell_type": "code",
      "execution_count": null,
      "metadata": {
        "id": "_rEfKggQ4cX4"
      },
      "outputs": [],
      "source": [
        "def add_to_translated(row):\n",
        "  translated_ids.add(row[\"id\"])"
      ]
    },
    {
      "cell_type": "code",
      "execution_count": null,
      "metadata": {
        "id": "PfL57aVt4cX4"
      },
      "outputs": [],
      "source": [
        "translated.map(add_to_translated)"
      ]
    },
    {
      "cell_type": "code",
      "execution_count": null,
      "metadata": {
        "id": "P9OP4qLK4gw5"
      },
      "outputs": [],
      "source": [
        "errors = {id for id in all_ids if id not in translated_ids}"
      ]
    },
    {
      "cell_type": "code",
      "execution_count": null,
      "metadata": {
        "id": "rs3nVTvy4r4X"
      },
      "outputs": [],
      "source": [
        "error_entries = original.filter(lambda row: row[\"id\"] in errors)"
      ]
    },
    {
      "cell_type": "code",
      "execution_count": null,
      "metadata": {
        "id": "BbL9NZQgeRv5"
      },
      "outputs": [],
      "source": [
        "len(error_entries)"
      ]
    },
    {
      "cell_type": "code",
      "execution_count": null,
      "metadata": {
        "id": "JkJl_mdHSOBb"
      },
      "outputs": [],
      "source": [
        "error_table = pd.DataFrame(columns=[\"en\", \"mt\"])"
      ]
    },
    {
      "cell_type": "code",
      "execution_count": null,
      "metadata": {
        "id": "32wOLQgySm-i"
      },
      "outputs": [],
      "source": [
        "text = set()"
      ]
    },
    {
      "cell_type": "code",
      "execution_count": null,
      "metadata": {
        "id": "Z8iDR0DySdjL"
      },
      "outputs": [],
      "source": [
        "def add_to_set(row):\n",
        "  text.add(row[\"title\"])\n",
        "  text.add(row[\"question\"])\n",
        "  text.add(row[\"context\"])\n",
        "  for ans in row[\"answers\"][\"text\"]: text.add(ans)"
      ]
    },
    {
      "cell_type": "code",
      "execution_count": null,
      "metadata": {
        "id": "0ljrGyJfSuG6"
      },
      "outputs": [],
      "source": [
        "error_entries.map(add_to_set)"
      ]
    },
    {
      "cell_type": "code",
      "execution_count": null,
      "metadata": {
        "id": "hqvvy5vHSoYM"
      },
      "outputs": [],
      "source": [
        "for t in tqdm(text): error_table.loc[len(error_table.index)] = {\"en\": t, \"mt\": \"\"}"
      ]
    },
    {
      "cell_type": "code",
      "execution_count": null,
      "metadata": {
        "id": "i8FMVgzhTetG"
      },
      "outputs": [],
      "source": [
        "error_table.to_excel(\"squad_v2_train_errors.xlsx\", index=False)"
      ]
    },
    {
      "cell_type": "markdown",
      "metadata": {
        "id": "EkvHSrC9T5_n"
      },
      "source": [
        "Translate the errors and concatenate to the translations DataFrame. Then run \"Translating Train\" again to check if it yields improvement"
      ]
    },
    {
      "cell_type": "code",
      "execution_count": null,
      "metadata": {
        "id": "0BSPDuC-VgkV"
      },
      "outputs": [],
      "source": [
        "error_table = pd.read_excel(\"squad_v2_train_errors.xlsx\")"
      ]
    },
    {
      "cell_type": "code",
      "execution_count": null,
      "metadata": {
        "id": "WOq4fgcZZrjr"
      },
      "outputs": [],
      "source": [
        "assert len((error_table['en'].where(error_table['mt'] == '#VALUE!').dropna().values)) == 0"
      ]
    },
    {
      "cell_type": "code",
      "execution_count": null,
      "metadata": {
        "id": "GmRpzOFlVa2E"
      },
      "outputs": [],
      "source": [
        "translations = pd.concat([translations, error_table], ignore_index=True)"
      ]
    },
    {
      "cell_type": "code",
      "execution_count": null,
      "metadata": {
        "id": "cv-MjgvsaMii"
      },
      "outputs": [],
      "source": [
        "translations.to_excel(\"translated_train.xlsx\", index=False)"
      ]
    },
    {
      "cell_type": "markdown",
      "metadata": {
        "id": "T5tTlW2zr4YN"
      },
      "source": [
        "## Translating validation"
      ]
    },
    {
      "cell_type": "code",
      "execution_count": null,
      "metadata": {
        "id": "9nQiDPrmjQWz"
      },
      "outputs": [],
      "source": [
        "valid = load_dataset(\"squad_v2\", split=\"validation\", download_mode=\"force_redownload\")"
      ]
    },
    {
      "cell_type": "code",
      "execution_count": null,
      "metadata": {
        "id": "LDfuPipFuWj7"
      },
      "outputs": [],
      "source": [
        "valid = valid.map(is_impossible)"
      ]
    },
    {
      "cell_type": "code",
      "execution_count": null,
      "metadata": {
        "id": "g-d31Vf6r_uA"
      },
      "outputs": [],
      "source": [
        "# translations = pd.read_excel(\"translated_valid.xlsx\")\n",
        "translations = pd.concat([pd.read_excel(\"translated_valid.xlsx\"), pd.read_excel(\"squad_v2_valid_errors.xlsx\"), pd.read_excel(\"squad_v2_valid_errors (1).xlsx\")], ignore_index=True)"
      ]
    },
    {
      "cell_type": "code",
      "execution_count": null,
      "metadata": {
        "id": "DwIERteIr_uA"
      },
      "outputs": [],
      "source": [
        "en_mt_dict = dict()"
      ]
    },
    {
      "cell_type": "code",
      "execution_count": null,
      "metadata": {
        "id": "CsBhxMd2r_uA"
      },
      "outputs": [],
      "source": [
        "for index, row in translations.iterrows():\n",
        "    en_mt_dict.update({str(row[\"en\"]): str(row[\"mt\"])})"
      ]
    },
    {
      "cell_type": "code",
      "execution_count": null,
      "metadata": {
        "id": "ULTdubZYr_uB"
      },
      "outputs": [],
      "source": [
        "def translate_row(row):\n",
        "    row['title'] = en_mt_dict.get(str(row['title']))\n",
        "    row['context'] = en_mt_dict.get(str(row['context']))\n",
        "    row['question'] = en_mt_dict.get(str(row['question']))\n",
        "    if row[\"is_impossible\"] == False:\n",
        "        row['answers']['text'] = [en_mt_dict.get(str(entry)) for entry in row['answers']['text']]\n",
        "    return row"
      ]
    },
    {
      "cell_type": "code",
      "execution_count": null,
      "metadata": {
        "id": "WVlVaFbIr_uB"
      },
      "outputs": [],
      "source": [
        "valid = valid.map(translate_row)"
      ]
    },
    {
      "cell_type": "code",
      "execution_count": null,
      "metadata": {
        "id": "NoHU6hYbr_uB"
      },
      "outputs": [],
      "source": [
        "def update_answer_start(row):\n",
        "    if row['is_impossible'] == True: # if question had no answers\n",
        "        return row\n",
        "    if row['context'] is not None:\n",
        "        corpus = row['context'].lower()\n",
        "        starts = []\n",
        "        answers = []\n",
        "        for entry in row['answers']['text']:\n",
        "            if entry is not None:\n",
        "                 search = corpus.find(entry.lower())\n",
        "                 if search != -1:\n",
        "                    answers.append(entry)\n",
        "                    starts.append(search)\n",
        "        row['answers']['answer_start'] = starts\n",
        "        row['answers']['text'] = answers\n",
        "        return row\n",
        "    return row"
      ]
    },
    {
      "cell_type": "code",
      "execution_count": null,
      "metadata": {
        "id": "h7gVCYdTr_uB"
      },
      "outputs": [],
      "source": [
        "valid = valid.map(update_answer_start)"
      ]
    },
    {
      "cell_type": "code",
      "execution_count": null,
      "metadata": {
        "id": "5chyObohr_uB"
      },
      "outputs": [],
      "source": [
        "def answers_start_match(row):\n",
        "    if row['is_impossible'] == True: return [True]\n",
        "    matches = []\n",
        "    for i in range(len(row['answers']['answer_start'])):\n",
        "        if row['context'][row['answers']['answer_start'][i] : row['answers']['answer_start'][i] + len(row['answers']['text'][i])].lower() == row['answers']['text'][i].lower():\n",
        "            matches.append(True)\n",
        "        else:\n",
        "            matches.append(False)\n",
        "    return matches"
      ]
    },
    {
      "cell_type": "code",
      "execution_count": null,
      "metadata": {
        "id": "hKBQP_rJr_uB"
      },
      "outputs": [],
      "source": [
        "valid = valid.filter(\n",
        "    lambda row:\n",
        "    (row[\"id\"] and row[\"title\"] and row[\"context\"] and row[\"question\"])\n",
        "    and\n",
        "    (row['question'][-1] == \"?\")\n",
        "    and\n",
        "    (all(entry is True for entry in answers_start_match(row)))\n",
        "    and\n",
        "    any(entry is None for entry in row['answers']['text']) == False\n",
        ")"
      ]
    },
    {
      "cell_type": "code",
      "execution_count": null,
      "metadata": {
        "id": "ye7FvCZdznFu"
      },
      "outputs": [],
      "source": [
        "valid = valid.filter(\n",
        "    lambda row:\n",
        "    ((row[\"is_impossible\"] is False) and (len(row[\"answers\"][\"text\"]) > 0))\n",
        "    or\n",
        "    ((row[\"is_impossible\"] is True) and (len(row[\"answers\"][\"text\"]) == 0))\n",
        ")"
      ]
    },
    {
      "cell_type": "code",
      "execution_count": null,
      "metadata": {
        "id": "w_M49T_nym_k"
      },
      "outputs": [],
      "source": [
        "len(valid.filter(lambda row: row[\"is_impossible\"] is False and len(row['answers']['text']) == 0))"
      ]
    },
    {
      "cell_type": "code",
      "execution_count": null,
      "metadata": {
        "id": "Ikilo3tTr_uC"
      },
      "outputs": [],
      "source": [
        "len(valid.filter(lambda row: len(row['answers']['text']) > 0))"
      ]
    },
    {
      "cell_type": "code",
      "execution_count": null,
      "metadata": {
        "id": "vDccj1kNr_uC"
      },
      "outputs": [],
      "source": [
        "len(valid.filter(lambda row: len(row['answers']['text']) == 0))"
      ]
    },
    {
      "cell_type": "code",
      "execution_count": null,
      "metadata": {
        "id": "E_a238Uer_uC"
      },
      "outputs": [],
      "source": [
        "valid = valid.remove_columns(\"is_impossible\")"
      ]
    },
    {
      "cell_type": "code",
      "execution_count": null,
      "metadata": {
        "id": "ZPm_zKx-ljD5"
      },
      "outputs": [],
      "source": [
        "valid[0]"
      ]
    },
    {
      "cell_type": "code",
      "execution_count": null,
      "metadata": {
        "id": "9n72NYlCj14-"
      },
      "outputs": [],
      "source": [
        "squad[\"validation\"] = valid"
      ]
    },
    {
      "cell_type": "code",
      "execution_count": null,
      "metadata": {
        "id": "MpYxXgybdN18"
      },
      "outputs": [],
      "source": [
        "len(squad[\"validation\"])"
      ]
    },
    {
      "cell_type": "markdown",
      "metadata": {
        "id": "GK7R3QCSdvfn"
      },
      "source": [
        "## Errors in validation"
      ]
    },
    {
      "cell_type": "code",
      "execution_count": null,
      "metadata": {
        "id": "V_PZjrKZdgaN"
      },
      "outputs": [],
      "source": [
        "original = load_dataset(\"squad_v2\", split=\"validation\", download_mode='force_redownload')"
      ]
    },
    {
      "cell_type": "code",
      "execution_count": null,
      "metadata": {
        "id": "XHan5G1HdgaN"
      },
      "outputs": [],
      "source": [
        "all_ids = set()"
      ]
    },
    {
      "cell_type": "code",
      "execution_count": null,
      "metadata": {
        "id": "GoRxTs70dgaN"
      },
      "outputs": [],
      "source": [
        "def add_to_all(row):\n",
        "  all_ids.add(row[\"id\"])"
      ]
    },
    {
      "cell_type": "code",
      "execution_count": null,
      "metadata": {
        "id": "ODlwSTVtdgaN"
      },
      "outputs": [],
      "source": [
        "original.map(add_to_all)"
      ]
    },
    {
      "cell_type": "code",
      "execution_count": null,
      "metadata": {
        "id": "CKWX8OSNdgaO"
      },
      "outputs": [],
      "source": [
        "translated_ids = set()"
      ]
    },
    {
      "cell_type": "code",
      "execution_count": null,
      "metadata": {
        "id": "dJ5VyAeOdgaO"
      },
      "outputs": [],
      "source": [
        "def add_to_translated(row):\n",
        "  translated_ids.add(row[\"id\"])"
      ]
    },
    {
      "cell_type": "code",
      "execution_count": null,
      "metadata": {
        "id": "iu_nmq5vdgaO"
      },
      "outputs": [],
      "source": [
        "valid.map(add_to_translated)"
      ]
    },
    {
      "cell_type": "code",
      "execution_count": null,
      "metadata": {
        "id": "p06UbOCbdgaO"
      },
      "outputs": [],
      "source": [
        "errors = {id for id in all_ids if id not in translated_ids}"
      ]
    },
    {
      "cell_type": "code",
      "execution_count": null,
      "metadata": {
        "id": "0vmwOrasdgaO"
      },
      "outputs": [],
      "source": [
        "error_entries = original.filter(lambda row: row[\"id\"] in errors)"
      ]
    },
    {
      "cell_type": "code",
      "execution_count": null,
      "metadata": {
        "id": "8UbwBBFmdgaO"
      },
      "outputs": [],
      "source": [
        "len(error_entries)"
      ]
    },
    {
      "cell_type": "code",
      "execution_count": null,
      "metadata": {
        "id": "Pv8_sqlIdgaO"
      },
      "outputs": [],
      "source": [
        "error_table = pd.DataFrame(columns=[\"en\", \"mt\"])"
      ]
    },
    {
      "cell_type": "code",
      "execution_count": null,
      "metadata": {
        "id": "MgPKlcmXdgaO"
      },
      "outputs": [],
      "source": [
        "text = set()"
      ]
    },
    {
      "cell_type": "code",
      "execution_count": null,
      "metadata": {
        "id": "cjHqagDadgaO"
      },
      "outputs": [],
      "source": [
        "def add_to_set(row):\n",
        "  text.add(row[\"title\"])\n",
        "  text.add(row[\"question\"])\n",
        "  text.add(row[\"context\"])\n",
        "  for ans in row[\"answers\"][\"text\"]: text.add(ans)"
      ]
    },
    {
      "cell_type": "code",
      "execution_count": null,
      "metadata": {
        "id": "nT4ojoIRdgaP"
      },
      "outputs": [],
      "source": [
        "error_entries.map(add_to_set)"
      ]
    },
    {
      "cell_type": "code",
      "execution_count": null,
      "metadata": {
        "id": "JpOK7onodgaP"
      },
      "outputs": [],
      "source": [
        "for t in tqdm(text): error_table.loc[len(error_table.index)] = {\"en\": t, \"mt\": \"\"}"
      ]
    },
    {
      "cell_type": "code",
      "execution_count": null,
      "metadata": {
        "id": "ETVAxrKpdgaP"
      },
      "outputs": [],
      "source": [
        "error_table.to_excel(\"squad_v2_valid_errors.xlsx\", index=False)"
      ]
    },
    {
      "cell_type": "markdown",
      "metadata": {
        "id": "Dc-6TVbidgaP"
      },
      "source": [
        "Translate the errors and concatenate to the translations DataFrame. Then run \"Translating Train\" again to check if it yields improvement"
      ]
    },
    {
      "cell_type": "code",
      "execution_count": null,
      "metadata": {
        "id": "6SNyIdULdgaP"
      },
      "outputs": [],
      "source": [
        "error_table = pd.read_excel(\"squad_v2_valid_errors.xlsx\")"
      ]
    },
    {
      "cell_type": "code",
      "execution_count": null,
      "metadata": {
        "id": "BKUKVzdKdgaP"
      },
      "outputs": [],
      "source": [
        "assert len((error_table['en'].where(error_table['mt'] == '#VALUE!').dropna().values)) == 0"
      ]
    },
    {
      "cell_type": "code",
      "execution_count": null,
      "metadata": {
        "id": "u5Z5h9PUdgaP"
      },
      "outputs": [],
      "source": [
        "translations = pd.concat([translations, error_table], ignore_index=True)"
      ]
    },
    {
      "cell_type": "code",
      "execution_count": null,
      "metadata": {
        "id": "KRuPaoeJdgaP"
      },
      "outputs": [],
      "source": [
        "translations.to_excel(\"translated_valid.xlsx\", index=False)"
      ]
    },
    {
      "cell_type": "markdown",
      "metadata": {
        "id": "RJxbMZh8sT91"
      },
      "source": [
        "## Export dataset"
      ]
    },
    {
      "cell_type": "code",
      "execution_count": null,
      "metadata": {
        "id": "CjarMr5YsWQK"
      },
      "outputs": [],
      "source": [
        "# Download in official HF format\n",
        "squad.save_to_disk(\"SQuAD_V2\")"
      ]
    },
    {
      "cell_type": "code",
      "execution_count": null,
      "metadata": {
        "id": "8a2q4trXwaH0"
      },
      "outputs": [],
      "source": [
        "# Download as JSON\n",
        "for split, dataset in squad.items():\n",
        "    dataset.to_json(f\"squad-v2-{split}.json\")"
      ]
    }
  ],
  "metadata": {
    "colab": {
      "collapsed_sections": [
        "PWdfA-xCsfl6",
        "Qq9yhGnMsigF",
        "Q0Q3PSzqrjgz",
        "8baVVTxSSeww",
        "GK7R3QCSdvfn",
        "RJxbMZh8sT91"
      ],
      "provenance": []
    },
    "kernelspec": {
      "display_name": "Python 3",
      "name": "python3"
    },
    "language_info": {
      "name": "python"
    }
  },
  "nbformat": 4,
  "nbformat_minor": 0
}

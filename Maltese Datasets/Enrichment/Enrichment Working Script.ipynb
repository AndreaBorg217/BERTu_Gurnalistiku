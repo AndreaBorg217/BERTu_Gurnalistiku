{
 "cells": [
  {
   "cell_type": "code",
   "execution_count": 2,
   "metadata": {},
   "outputs": [
    {
     "name": "stdout",
     "output_type": "stream",
     "text": [
      "Requirement already satisfied: pandas in c:\\users\\andre\\appdata\\local\\packages\\pythonsoftwarefoundation.python.3.11_qbz5n2kfra8p0\\localcache\\local-packages\\python311\\site-packages (2.1.3)\n",
      "Requirement already satisfied: numpy<2,>=1.23.2 in c:\\users\\andre\\appdata\\local\\packages\\pythonsoftwarefoundation.python.3.11_qbz5n2kfra8p0\\localcache\\local-packages\\python311\\site-packages (from pandas) (1.26.1)\n",
      "Requirement already satisfied: python-dateutil>=2.8.2 in c:\\users\\andre\\appdata\\local\\packages\\pythonsoftwarefoundation.python.3.11_qbz5n2kfra8p0\\localcache\\local-packages\\python311\\site-packages (from pandas) (2.8.2)\n",
      "Requirement already satisfied: pytz>=2020.1 in c:\\users\\andre\\appdata\\local\\packages\\pythonsoftwarefoundation.python.3.11_qbz5n2kfra8p0\\localcache\\local-packages\\python311\\site-packages (from pandas) (2023.3)\n",
      "Requirement already satisfied: tzdata>=2022.1 in c:\\users\\andre\\appdata\\local\\packages\\pythonsoftwarefoundation.python.3.11_qbz5n2kfra8p0\\localcache\\local-packages\\python311\\site-packages (from pandas) (2023.3)\n",
      "Requirement already satisfied: six>=1.5 in c:\\users\\andre\\appdata\\local\\packages\\pythonsoftwarefoundation.python.3.11_qbz5n2kfra8p0\\localcache\\local-packages\\python311\\site-packages (from python-dateutil>=2.8.2->pandas) (1.16.0)\n"
     ]
    },
    {
     "name": "stderr",
     "output_type": "stream",
     "text": [
      "\n",
      "[notice] A new release of pip is available: 23.2.1 -> 23.3.1\n",
      "[notice] To update, run: C:\\Users\\andre\\AppData\\Local\\Microsoft\\WindowsApps\\PythonSoftwareFoundation.Python.3.11_qbz5n2kfra8p0\\python.exe -m pip install --upgrade pip\n"
     ]
    }
   ],
   "source": [
    "! pip install -U pandas"
   ]
  },
  {
   "cell_type": "code",
   "execution_count": 3,
   "metadata": {},
   "outputs": [],
   "source": [
    "import pandas as pd"
   ]
  },
  {
   "cell_type": "code",
   "execution_count": 4,
   "metadata": {},
   "outputs": [],
   "source": [
    "import re\n",
    "\n",
    "def remove_references(input_string):\n",
    "    ieee_pattern = r'\\[\\d+\\]'\n",
    "\n",
    "    output_string = re.sub(ieee_pattern, '', input_string)\n",
    "\n",
    "    return output_string"
   ]
  },
  {
   "cell_type": "code",
   "execution_count": 5,
   "metadata": {},
   "outputs": [
    {
     "data": {
      "text/plain": [
       "'ċ'"
      ]
     },
     "execution_count": 5,
     "metadata": {},
     "output_type": "execute_result"
    }
   ],
   "source": [
    "\"ċ\""
   ]
  },
  {
   "cell_type": "code",
   "execution_count": 145,
   "metadata": {},
   "outputs": [
    {
     "name": "stdout",
     "output_type": "stream",
     "text": [
      "index                                                     999\n",
      "context     Stalin żamm il-kmand fuq l-Unjoni Sovjetika sa...\n",
      "question                     Meta waqqfet il-Gwerra l-Bierda?\n",
      "answer                                                fl-1990\n",
      "Name: 999, dtype: object\n",
      "Size of enrichment = 1000\n"
     ]
    }
   ],
   "source": [
    "df = pd.read_csv(\"enrichment_working_data.csv\", encoding=\"utf-8\")\n",
    "\n",
    "context = \"Stalin żamm il-kmand fuq l-Unjoni Sovjetika sal-mewt tiegħu. Huwa ta importanza kbira lill-militar, u ffoka l-ħin u l-enerġija kollha tar-Russja lejn il-bini ta' armi, vejikoli u forzi armati. Jingħad li Stalin seraq sigrieti nukleari mill-Amerika sabiex ikun jista' jibni l-armamenti tiegħu. Din ġabet magħha l-bidu tal-Gwerra Bierda, li baqgħet għaddejja sal-waqgħa tal-Unjoni Sovjetika fl-1990.\"\n",
    "context = remove_references(context)  # Removes citations because they are not information used to answer questions\n",
    "context = context.strip()\n",
    "\n",
    "question = \"Meta waqqfet il-Gwerra l-Bierda?\"\n",
    "question = question.strip()\n",
    "assert question[-1] == \"?\", \"Question should end with a ?\"\n",
    "\n",
    "answer = \"fl-1990\"\n",
    "answer = answer.strip()\n",
    "assert answer in context, \"Answer not in context\"\n",
    "\n",
    "df.loc[len(df.index)] = {'index': len(df.index),'context': context, 'question': question, 'answer': answer}\n",
    "df.to_csv(\"enrichment_working_data.csv\", encoding=\"utf-8\", index=False)\n",
    "print(df.loc[len(df.index)-1])\n",
    "print(f\"Size of enrichment = {len(df)}\")"
   ]
  },
  {
   "cell_type": "code",
   "execution_count": 138,
   "metadata": {},
   "outputs": [
    {
     "data": {
      "text/html": [
       "<div>\n",
       "<style scoped>\n",
       "    .dataframe tbody tr th:only-of-type {\n",
       "        vertical-align: middle;\n",
       "    }\n",
       "\n",
       "    .dataframe tbody tr th {\n",
       "        vertical-align: top;\n",
       "    }\n",
       "\n",
       "    .dataframe thead th {\n",
       "        text-align: right;\n",
       "    }\n",
       "</style>\n",
       "<table border=\"1\" class=\"dataframe\">\n",
       "  <thead>\n",
       "    <tr style=\"text-align: right;\">\n",
       "      <th></th>\n",
       "      <th>index</th>\n",
       "      <th>context</th>\n",
       "      <th>question</th>\n",
       "      <th>answer</th>\n",
       "    </tr>\n",
       "  </thead>\n",
       "  <tbody>\n",
       "    <tr>\n",
       "      <th>223</th>\n",
       "      <td>223</td>\n",
       "      <td>Wara li tkeċċew minn Malta bosta mill-membri t...</td>\n",
       "      <td>X' jagħmel l-Ordni illum?</td>\n",
       "      <td>jieħu ħsieb lin-nies fil-bżonn</td>\n",
       "    </tr>\n",
       "    <tr>\n",
       "      <th>306</th>\n",
       "      <td>306</td>\n",
       "      <td>L-Atti tal-Appostli, hu ktieb fil-Bibbja u hu ...</td>\n",
       "      <td>X' jirrakontaw l-Atti?</td>\n",
       "      <td>x'ġara matul l-ewwel ftit snin tal-Knisja</td>\n",
       "    </tr>\n",
       "    <tr>\n",
       "      <th>307</th>\n",
       "      <td>307</td>\n",
       "      <td>L-Atti tal-Appostli, hu ktieb fil-Bibbja u hu ...</td>\n",
       "      <td>Fuq min jiffukaw l-Atti?</td>\n",
       "      <td>primarjament fuq l-għemil ta' Pietru u ta' Pawlu</td>\n",
       "    </tr>\n",
       "    <tr>\n",
       "      <th>393</th>\n",
       "      <td>393</td>\n",
       "      <td>L-ewwel Konċilju ta' Niċea kien l-ewwel Konċil...</td>\n",
       "      <td>Xi tfisser l-Arjaniżmu?</td>\n",
       "      <td>L-Arjaniżmu huwa duttrina Kristoloġika mhux tr...</td>\n",
       "    </tr>\n",
       "    <tr>\n",
       "      <th>394</th>\n",
       "      <td>394</td>\n",
       "      <td>L-ewwel Konċilju ta' Niċea kien l-ewwel Konċil...</td>\n",
       "      <td>Min sejjaħ l-ewwel Konċilju?</td>\n",
       "      <td>mill-Imperatur Kostantinu il-Kbir</td>\n",
       "    </tr>\n",
       "    <tr>\n",
       "      <th>395</th>\n",
       "      <td>395</td>\n",
       "      <td>L-ewwel Konċilju ta' Niċea kien l-ewwel Konċil...</td>\n",
       "      <td>Fejn sar l-ewwel Konċilju?</td>\n",
       "      <td>Niċea</td>\n",
       "    </tr>\n",
       "    <tr>\n",
       "      <th>899</th>\n",
       "      <td>899</td>\n",
       "      <td>Wara li waqqaf il-Knisja f' Ġerusalemm huwa ma...</td>\n",
       "      <td>X' inhu s-simbolu ta' Ġwanni?</td>\n",
       "      <td>ajkla</td>\n",
       "    </tr>\n",
       "    <tr>\n",
       "      <th>900</th>\n",
       "      <td>900</td>\n",
       "      <td>Wara li waqqaf il-Knisja f' Ġerusalemm huwa ma...</td>\n",
       "      <td>Kemm kellu żmien meta miet Ġwanni?</td>\n",
       "      <td>madwar erbgħa u disgħin sena</td>\n",
       "    </tr>\n",
       "    <tr>\n",
       "      <th>904</th>\n",
       "      <td>904</td>\n",
       "      <td>Wara li waqqaf il-Knisja f' Ġerusalemm huwa ma...</td>\n",
       "      <td>Ma' min kien jgħix Ġwanni?</td>\n",
       "      <td>mal-Madonna</td>\n",
       "    </tr>\n",
       "    <tr>\n",
       "      <th>986</th>\n",
       "      <td>986</td>\n",
       "      <td>Um er-Rasas huwa sit arkeoloġiku li jinsab 30 ...</td>\n",
       "      <td>Ta' liem żminijiet instabu fdalijiet?</td>\n",
       "      <td>ta' żmien ir-Rumani, il-Biżantini u l-Musulmani</td>\n",
       "    </tr>\n",
       "    <tr>\n",
       "      <th>987</th>\n",
       "      <td>987</td>\n",
       "      <td>Um er-Rasas huwa sit arkeoloġiku li jinsab 30 ...</td>\n",
       "      <td>Ma' xiex ġie assoċjat is-sit?</td>\n",
       "      <td>mal-insedjament Bibbliku ta' Mefagħat imsemmi ...</td>\n",
       "    </tr>\n",
       "  </tbody>\n",
       "</table>\n",
       "</div>"
      ],
      "text/plain": [
       "     index                                            context  \\\n",
       "223    223  Wara li tkeċċew minn Malta bosta mill-membri t...   \n",
       "306    306  L-Atti tal-Appostli, hu ktieb fil-Bibbja u hu ...   \n",
       "307    307  L-Atti tal-Appostli, hu ktieb fil-Bibbja u hu ...   \n",
       "393    393  L-ewwel Konċilju ta' Niċea kien l-ewwel Konċil...   \n",
       "394    394  L-ewwel Konċilju ta' Niċea kien l-ewwel Konċil...   \n",
       "395    395  L-ewwel Konċilju ta' Niċea kien l-ewwel Konċil...   \n",
       "899    899  Wara li waqqaf il-Knisja f' Ġerusalemm huwa ma...   \n",
       "900    900  Wara li waqqaf il-Knisja f' Ġerusalemm huwa ma...   \n",
       "904    904  Wara li waqqaf il-Knisja f' Ġerusalemm huwa ma...   \n",
       "986    986  Um er-Rasas huwa sit arkeoloġiku li jinsab 30 ...   \n",
       "987    987  Um er-Rasas huwa sit arkeoloġiku li jinsab 30 ...   \n",
       "\n",
       "                                  question  \\\n",
       "223              X' jagħmel l-Ordni illum?   \n",
       "306                 X' jirrakontaw l-Atti?   \n",
       "307               Fuq min jiffukaw l-Atti?   \n",
       "393                Xi tfisser l-Arjaniżmu?   \n",
       "394           Min sejjaħ l-ewwel Konċilju?   \n",
       "395             Fejn sar l-ewwel Konċilju?   \n",
       "899          X' inhu s-simbolu ta' Ġwanni?   \n",
       "900     Kemm kellu żmien meta miet Ġwanni?   \n",
       "904             Ma' min kien jgħix Ġwanni?   \n",
       "986  Ta' liem żminijiet instabu fdalijiet?   \n",
       "987          Ma' xiex ġie assoċjat is-sit?   \n",
       "\n",
       "                                                answer  \n",
       "223                     jieħu ħsieb lin-nies fil-bżonn  \n",
       "306          x'ġara matul l-ewwel ftit snin tal-Knisja  \n",
       "307   primarjament fuq l-għemil ta' Pietru u ta' Pawlu  \n",
       "393  L-Arjaniżmu huwa duttrina Kristoloġika mhux tr...  \n",
       "394                  mill-Imperatur Kostantinu il-Kbir  \n",
       "395                                              Niċea  \n",
       "899                                              ajkla  \n",
       "900                       madwar erbgħa u disgħin sena  \n",
       "904                                        mal-Madonna  \n",
       "986    ta' żmien ir-Rumani, il-Biżantini u l-Musulmani  \n",
       "987  mal-insedjament Bibbliku ta' Mefagħat imsemmi ...  "
      ]
     },
     "execution_count": 138,
     "metadata": {},
     "output_type": "execute_result"
    }
   ],
   "source": [
    "# Used to check if a question has already been asked\n",
    "query = \"Ġerusalemm\"\n",
    "df[df['context'].str.contains(query, case=False, na=False)]"
   ]
  }
 ],
 "metadata": {
  "kernelspec": {
   "display_name": "Python 3",
   "language": "python",
   "name": "python3"
  },
  "language_info": {
   "codemirror_mode": {
    "name": "ipython",
    "version": 3
   },
   "file_extension": ".py",
   "mimetype": "text/x-python",
   "name": "python",
   "nbconvert_exporter": "python",
   "pygments_lexer": "ipython3",
   "version": "3.11.6"
  }
 },
 "nbformat": 4,
 "nbformat_minor": 2
}

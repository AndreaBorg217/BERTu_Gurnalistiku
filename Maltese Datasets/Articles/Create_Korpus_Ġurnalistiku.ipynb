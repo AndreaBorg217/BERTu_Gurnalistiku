{
  "cells": [
    {
      "cell_type": "markdown",
      "metadata": {
        "id": "mSM2LfuDqd5V"
      },
      "source": [
        "## Requirements"
      ]
    },
    {
      "cell_type": "code",
      "execution_count": 1,
      "metadata": {
        "id": "wk8MS_ngnvdL"
      },
      "outputs": [],
      "source": [
        "import matplotlib.pyplot as plt\n",
        "import pandas as pd\n",
        "from tqdm import tqdm\n",
        "import os"
      ]
    },
    {
      "cell_type": "markdown",
      "metadata": {
        "id": "9TNjDTmxnxw9"
      },
      "source": [
        "## Load and clean TVM News data"
      ]
    },
    {
      "cell_type": "code",
      "execution_count": 2,
      "metadata": {
        "id": "iKYvL_y6KUG6"
      },
      "outputs": [],
      "source": [
        "tvm_txt = set(line.strip() for line in open('./tvm/tvm.txt', encoding=\"utf-8\"))\n",
        "tvm_txt = {s for s in tvm_txt if len(s) > 0 and s.isspace() == False}"
      ]
    },
    {
      "cell_type": "code",
      "execution_count": 3,
      "metadata": {
        "colab": {
          "base_uri": "https://localhost:8080/"
        },
        "id": "zwNSM7Nq4e_Z",
        "outputId": "74fab89c-998c-4ba3-aaff-d94d81f57c24"
      },
      "outputs": [
        {
          "data": {
            "text/plain": [
              "395884"
            ]
          },
          "execution_count": 3,
          "metadata": {},
          "output_type": "execute_result"
        }
      ],
      "source": [
        "len(tvm_txt)"
      ]
    },
    {
      "cell_type": "markdown",
      "metadata": {
        "id": "yyb0Nu4qn5F7"
      },
      "source": [
        "## Load and clean One News data"
      ]
    },
    {
      "cell_type": "code",
      "execution_count": 4,
      "metadata": {
        "id": "UmQKlw_ro5PG"
      },
      "outputs": [],
      "source": [
        "one_txt = set(line.strip() for line in open('./one/one.txt', encoding=\"utf-8\"))\n",
        "one_txt = {s for s in one_txt if len(s) > 0 and s.isspace() == False}"
      ]
    },
    {
      "cell_type": "code",
      "execution_count": 5,
      "metadata": {
        "colab": {
          "base_uri": "https://localhost:8080/"
        },
        "id": "9OzDXAP1o5PH",
        "outputId": "b8bc7155-87c8-44b2-b0d6-fcf4a4e8095c"
      },
      "outputs": [
        {
          "data": {
            "text/plain": [
              "474386"
            ]
          },
          "execution_count": 5,
          "metadata": {},
          "output_type": "execute_result"
        }
      ],
      "source": [
        "len(one_txt)"
      ]
    },
    {
      "cell_type": "markdown",
      "metadata": {
        "id": "qRIEBTE-n8Vi"
      },
      "source": [
        "## Load and clean Net News data"
      ]
    },
    {
      "cell_type": "code",
      "execution_count": 6,
      "metadata": {
        "id": "CNx9Mueso-Kh"
      },
      "outputs": [],
      "source": [
        "net_txt = set(line.strip() for line in open('./net/net.txt', encoding=\"utf-8\"))\n",
        "net_txt = {s for s in net_txt if len(s) > 0 and s.isspace() == False}"
      ]
    },
    {
      "cell_type": "code",
      "execution_count": 7,
      "metadata": {
        "colab": {
          "base_uri": "https://localhost:8080/"
        },
        "id": "xB0nrlsro-Kj",
        "outputId": "9217b517-d957-42bd-97d8-8a0758a3f90e"
      },
      "outputs": [
        {
          "data": {
            "text/plain": [
              "670758"
            ]
          },
          "execution_count": 7,
          "metadata": {},
          "output_type": "execute_result"
        }
      ],
      "source": [
        "len(net_txt)"
      ]
    },
    {
      "cell_type": "markdown",
      "metadata": {
        "id": "uHImlg7Bn-un"
      },
      "source": [
        "## Combine & save dataset to text file"
      ]
    },
    {
      "cell_type": "code",
      "execution_count": 8,
      "metadata": {
        "id": "PZK_kHWQoHFi"
      },
      "outputs": [],
      "source": [
        "combined = set(list(tvm_txt) + list(one_txt) + list(net_txt))"
      ]
    },
    {
      "cell_type": "code",
      "execution_count": 9,
      "metadata": {
        "colab": {
          "base_uri": "https://localhost:8080/"
        },
        "id": "mZ95XJ_yW9NU",
        "outputId": "f1adbb1d-c970-4514-bcb3-60bd008ffa40"
      },
      "outputs": [
        {
          "data": {
            "text/plain": [
              "1530559"
            ]
          },
          "execution_count": 9,
          "metadata": {},
          "output_type": "execute_result"
        }
      ],
      "source": [
        "len(combined)"
      ]
    },
    {
      "cell_type": "code",
      "execution_count": 10,
      "metadata": {
        "colab": {
          "base_uri": "https://localhost:8080/"
        },
        "id": "NrC7kFKipNMv",
        "outputId": "790eaa41-e363-41ce-ae57-08149a2a3d88"
      },
      "outputs": [
        {
          "name": "stderr",
          "output_type": "stream",
          "text": [
            "Writing to file: 100%|██████████| 1530559/1530559 [00:02<00:00, 519585.94line/s]\n"
          ]
        }
      ],
      "source": [
        "with open(\"Korpus Ġurnalistiku.txt\", 'w', encoding=\"utf-8\") as file:\n",
        "    for string in tqdm(combined, desc=\"Writing to file\", unit=\"line\"):\n",
        "        file.write(string + '\\n')"
      ]
    },
    {
      "cell_type": "markdown",
      "metadata": {
        "id": "kO_wk2HPoHZV"
      },
      "source": [
        "## Visualise dataset"
      ]
    },
    {
      "cell_type": "code",
      "execution_count": 11,
      "metadata": {
        "colab": {
          "base_uri": "https://localhost:8080/"
        },
        "id": "jTJsYg-npx1x",
        "outputId": "4ba017b3-0d96-46f0-8337-705235a0b0fb"
      },
      "outputs": [
        {
          "name": "stdout",
          "output_type": "stream",
          "text": [
            "Korpus Ġurnalistiku (327MB) has 1530559 pieces of text\n"
          ]
        }
      ],
      "source": [
        "size_in_bytes = os.path.getsize(\"Korpus Ġurnalistiku.txt\")\n",
        "size_in_mb = size_in_bytes / 1024 / 1024\n",
        "\n",
        "print(f\"Korpus Ġurnalistiku ({size_in_mb:.0f}MB) has {len(combined)} pieces of text\")"
      ]
    },
    {
      "cell_type": "code",
      "execution_count": 12,
      "metadata": {
        "colab": {
          "base_uri": "https://localhost:8080/",
          "height": 523
        },
        "id": "0N5fSTJipqFT",
        "outputId": "d5c738c1-a83e-49f4-fb90-33ff307898be"
      },
      "outputs": [
        {
          "data": {
            "image/png": "[encoded data removed]",
            "text/plain": [
              "<Figure size 600x600 with 1 Axes>"
            ]
          },
          "metadata": {},
          "output_type": "display_data"
        }
      ],
      "source": [
        "stats = {\n",
        "    \"TVM\": tvm_txt,\n",
        "    \"One News\": one_txt,\n",
        "    \"Net News\": net_txt\n",
        "}\n",
        "\n",
        "percentage_values = [len(value) / len(combined) * 100 for value in stats.values()]\n",
        "labels = [f'{key}: {p:.2f}%' for key, p in zip(stats.keys(), percentage_values)]\n",
        "\n",
        "plt.figure(figsize=(6, 6))\n",
        "plt.pie(percentage_values, labels=labels)\n",
        "plt.title('Source Contribution to Korpus Ġurnalistiku')\n",
        "plt.savefig('Source Contribution to Korpus Ġurnalistiku')"
      ]
    }
  ],
  "metadata": {
    "colab": {
      "collapsed_sections": [
        "9TNjDTmxnxw9",
        "qcY1qyy7n0rL",
        "yyb0Nu4qn5F7",
        "qRIEBTE-n8Vi",
        "uHImlg7Bn-un"
      ],
      "provenance": []
    },
    "kernelspec": {
      "display_name": "Python 3",
      "name": "python3"
    },
    "language_info": {
      "codemirror_mode": {
        "name": "ipython",
        "version": 3
      },
      "file_extension": ".py",
      "mimetype": "text/x-python",
      "name": "python",
      "nbconvert_exporter": "python",
      "pygments_lexer": "ipython3",
      "version": "3.11.7"
    }
  },
  "nbformat": 4,
  "nbformat_minor": 0
}

{
 "cells": [
  {
   "cell_type": "code",
   "execution_count": null,
   "metadata": {},
   "outputs": [],
   "source": [
    "import scrapy\n",
    "from scrapy.crawler import CrawlerProcess\n",
    "import time\n",
    "import pandas as pd\n",
    "import json"
   ]
  },
  {
   "cell_type": "markdown",
   "metadata": {},
   "source": [
    "## Crawl links of articles"
   ]
  },
  {
   "cell_type": "code",
   "execution_count": null,
   "metadata": {},
   "outputs": [],
   "source": [
    "class TvmLinksSpider(scrapy.Spider):\n",
    "    name = \"tvm_links\"\n",
    "    start_urls = [\n",
    "        \"https://tvmnews.mt/ahbarijiet_category/lokali/\",\n",
    "        \"https://tvmnews.mt/ahbarijiet_category/barranin/\",\n",
    "        \"https://tvmnews.mt/ahbarijiet_category/divertiment/\",\n",
    "        \"https://tvmnews.mt/ahbarijiet_category/unjoni-ewropea/\",\n",
    "        \"https://tvmnews.mt/sport_category/sport-lokali/\",\n",
    "        \"https://tvmnews.mt/sport_category/sport-internazzjonali/\",\n",
    "        \"https://tvmnews.mt/sport_category/sport-internazzjonali/olimpjadi-parigi-2024/\",\n",
    "    ]\n",
    "    custom_settings = {\n",
    "\t\t'FEEDS': { 'tvm_links.csv': { 'format': 'csv',}},\n",
    "        'DOWNLOAD_DELAY': 1,\n",
    "        'CONCURRENT_ITEMS':25,\n",
    "        'CONCURRENT_REQUESTS':25,\n",
    "        'CONCURRENT_REQUESTS_PER_DOMAIN': 25,\n",
    "        'AUTOTHROTTLE_ENABLED':False,\n",
    "        'RANDOMIZE_DOWNLOAD_DELAY': False\n",
    "\t}\n",
    "\n",
    "    def parse(self, response):\n",
    "        hrefs = response.xpath('//h2[@class=\"penci-entry-title entry-title grid-title\"]/a/@href')\n",
    "        \n",
    "        for href in hrefs: \n",
    "            yield {\"0\": href.get()}\n",
    "        \n",
    "\n",
    "        next_page = response.xpath('//a[@class=\"next page-numbers\"]/@href').get()\n",
    "        if next_page:\n",
    "            yield scrapy.Request(response.urljoin(next_page), callback=self.parse)\n"
   ]
  },
  {
   "cell_type": "code",
   "execution_count": null,
   "metadata": {},
   "outputs": [],
   "source": [
    "process = CrawlerProcess()\n",
    "process.crawl(TvmLinksSpider)\n",
    "process.start()"
   ]
  },
  {
   "cell_type": "markdown",
   "metadata": {},
   "source": [
    "## Clean articles list"
   ]
  },
  {
   "cell_type": "code",
   "execution_count": null,
   "metadata": {},
   "outputs": [],
   "source": [
    "df = pd.read_csv(\"tvm_links.csv\")\n",
    "print(f\"Unfiltered = {len(df)} articles\")\n",
    "\n",
    "unique_links = list()\n",
    "seen_elements = set()\n",
    "\n",
    "links  = df.iloc[:, 0].tolist()\n",
    "\n",
    "for l in links:\n",
    "    if l not in seen_elements:\n",
    "        unique_links.append(l)\n",
    "        seen_elements.add(l)\n",
    "\n",
    "print(f\"Filtered = {len(unique_links)} articles\")"
   ]
  },
  {
   "cell_type": "markdown",
   "metadata": {},
   "source": [
    "## Scrape articles text"
   ]
  },
  {
   "cell_type": "code",
   "execution_count": null,
   "metadata": {},
   "outputs": [],
   "source": [
    "class TvmTextSpider(scrapy.Spider):\n",
    "    name = \"tvm_text\"\n",
    "    start_urls = unique_links\n",
    "    custom_settings = {\n",
    "        'DOWNLOAD_DELAY': 1,\n",
    "        'CONCURRENT_ITEMS':25,\n",
    "        'CONCURRENT_REQUESTS':25,\n",
    "        'CONCURRENT_REQUESTS_PER_DOMAIN': 25,\n",
    "        'AUTOTHROTTLE_ENABLED':False,\n",
    "        'RANDOMIZE_DOWNLOAD_DELAY': False\n",
    "\t\t}\n",
    "\n",
    "    def parse(self, response):\n",
    "        div = response.xpath('//div[@id=\"penci-post-entry-inner\"]')\n",
    "        paragraphs = div.xpath('.//p/text()').getall()\n",
    "        strings = [str(p).strip() for p in paragraphs]\n",
    "\n",
    "        with open('tvm.txt', 'a') as file:\n",
    "            file.write('\\n'.join(strings) + '\\n')\n",
    "        \n",
    "        current_url = response.request.url\n",
    "        log = {\"index\": unique_links.index(current_url), \"url\": current_url}\n",
    "        with open('log.json', 'w') as json_file:\n",
    "            json.dump(log, json_file, indent=2)"
   ]
  },
  {
   "cell_type": "code",
   "execution_count": null,
   "metadata": {},
   "outputs": [],
   "source": [
    "process = CrawlerProcess()\n",
    "process.crawl(TvmTextSpider)\n",
    "process.start()"
   ]
  }
 ],
 "metadata": {
  "kernelspec": {
   "display_name": "Python 3",
   "language": "python",
   "name": "python3"
  },
  "language_info": {
   "codemirror_mode": {
    "name": "ipython",
    "version": 3
   },
   "file_extension": ".py",
   "mimetype": "text/x-python",
   "name": "python",
   "nbconvert_exporter": "python",
   "pygments_lexer": "ipython3",
   "version": "3.12.0"
  }
 },
 "nbformat": 4,
 "nbformat_minor": 2
}

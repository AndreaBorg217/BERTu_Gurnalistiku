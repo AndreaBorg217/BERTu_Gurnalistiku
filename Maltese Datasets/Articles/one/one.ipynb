{
 "cells": [
  {
   "cell_type": "code",
   "execution_count": null,
   "metadata": {},
   "outputs": [],
   "source": [
    "import scrapy\n",
    "from scrapy.crawler import CrawlerProcess\n",
    "import pandas as pd\n",
    "import json"
   ]
  },
  {
   "cell_type": "markdown",
   "metadata": {},
   "source": [
    "## Crawl links of articles"
   ]
  },
  {
   "cell_type": "code",
   "execution_count": null,
   "metadata": {},
   "outputs": [],
   "source": [
    "class OneLinksSpider(scrapy.Spider):\n",
    "    name = \"one_links\"\n",
    "    start_urls = [\n",
    "        \"https://one.com.mt/kategorija/ahbarijiet/lokali/\",\n",
    "        \"https://one.com.mt/kategorija/ahbarijiet/bagit-2024/\",\n",
    "        \"https://one.com.mt/kategorija/ahbarijiet/internazzjonali/\",\n",
    "        \"https://one.com.mt/kategorija/ahbarijiet/unjoniewropea/\",\n",
    "        \"https://one.com.mt/kategorija/ahbarijiet/sport/\",\n",
    "        \"https://one.com.mt/kategorija/ahbarijiet/pharmacy/\",\n",
    "    ]\n",
    "    custom_settings = {\n",
    "\t\t'FEEDS': { 'one_links.csv': { 'format': 'csv',}},\n",
    "        'DOWNLOAD_DELAY': 1,\n",
    "        'CONCURRENT_ITEMS':25,\n",
    "        'CONCURRENT_REQUESTS':25,\n",
    "        'CONCURRENT_REQUESTS_PER_DOMAIN': 25,\n",
    "        'AUTOTHROTTLE_ENABLED':False,\n",
    "        'RANDOMIZE_DOWNLOAD_DELAY': False\n",
    "\t\t}\n",
    "\n",
    "    def parse(self, response):\n",
    "        hrefs = response.xpath('//h2[@class=\"penci-entry-title entry-title grid-title\"]/a/@href')\n",
    "        \n",
    "        for href in hrefs: \n",
    "            yield {\"0\": href.get()}\n",
    "        \n",
    "\n",
    "        next_page = response.xpath('//a[@class=\"next page-numbers\"]/@href').get()\n",
    "        if next_page:\n",
    "            yield scrapy.Request(response.urljoin(next_page), callback=self.parse)\n"
   ]
  },
  {
   "cell_type": "code",
   "execution_count": null,
   "metadata": {},
   "outputs": [],
   "source": [
    "process = CrawlerProcess()\n",
    "process.crawl(OneLinksSpider)\n",
    "process.start()"
   ]
  },
  {
   "cell_type": "markdown",
   "metadata": {},
   "source": [
    "## Clean articles list"
   ]
  },
  {
   "cell_type": "code",
   "execution_count": null,
   "metadata": {},
   "outputs": [],
   "source": [
    "df = pd.read_csv(\"one_links.csv\")\n",
    "print(f\"Unfiltered = {len(df)} articles\")\n",
    "\n",
    "unique_links = list()\n",
    "seen_elements = set()\n",
    "\n",
    "links  = df.iloc[:, 0].tolist()\n",
    "\n",
    "for l in links:\n",
    "    if l not in seen_elements:\n",
    "        unique_links.append(l)\n",
    "        seen_elements.add(l)\n",
    "\n",
    "print(f\"Filtered = {len(unique_links)} articles\")"
   ]
  },
  {
   "cell_type": "markdown",
   "metadata": {},
   "source": [
    "## Scrape articles text"
   ]
  },
  {
   "cell_type": "code",
   "execution_count": null,
   "metadata": {},
   "outputs": [],
   "source": [
    "class OneTextSpider(scrapy.Spider):\n",
    "    name = \"one_text\"\n",
    "    start_urls = unique_links\n",
    "    custom_settings = {\n",
    "        'DOWNLOAD_DELAY': 1,\n",
    "        'CONCURRENT_ITEMS':25,\n",
    "        'CONCURRENT_REQUESTS':25,\n",
    "        'CONCURRENT_REQUESTS_PER_DOMAIN': 25,\n",
    "        'AUTOTHROTTLE_ENABLED':False,\n",
    "        'RANDOMIZE_DOWNLOAD_DELAY': False\n",
    "\t\t}\n",
    "\n",
    "    def parse(self, response):\n",
    "        div = response.xpath('//div[@id=\"penci-post-entry-inner\"]')\n",
    "        paragraphs = div.xpath('.//p/text()').getall()\n",
    "        strings = [str(p).strip() for p in paragraphs]\n",
    "\n",
    "        with open('one.txt', 'a') as file:\n",
    "            file.write('\\n'.join(strings) + '\\n')\n",
    "        \n",
    "        current_url = response.request.url\n",
    "        log = {\"index\": unique_links.index(current_url), \"url\": current_url}\n",
    "        with open('log.json', 'w') as json_file:\n",
    "            json.dump(log, json_file, indent=2)"
   ]
  },
  {
   "cell_type": "code",
   "execution_count": null,
   "metadata": {},
   "outputs": [],
   "source": [
    "process = CrawlerProcess()\n",
    "process.crawl(OneTextSpider)\n",
    "process.start()"
   ]
  }
 ],
 "metadata": {
  "kernelspec": {
   "display_name": "Python 3",
   "language": "python",
   "name": "python3"
  },
  "language_info": {
   "codemirror_mode": {
    "name": "ipython",
    "version": 3
   },
   "file_extension": ".py",
   "mimetype": "text/x-python",
   "name": "python",
   "nbconvert_exporter": "python",
   "pygments_lexer": "ipython3",
   "version": "3.12.0"
  }
 },
 "nbformat": 4,
 "nbformat_minor": 2
}

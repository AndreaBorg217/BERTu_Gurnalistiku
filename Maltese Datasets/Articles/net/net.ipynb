{
 "cells": [
  {
   "cell_type": "code",
   "execution_count": null,
   "metadata": {},
   "outputs": [],
   "source": [
    "import pandas as pd\n",
    "import scrapy\n",
    "from scrapy.crawler import CrawlerProcess\n",
    "import json\n",
    "import re"
   ]
  },
  {
   "cell_type": "markdown",
   "metadata": {},
   "source": [
    "## Categories to be crawled & scraped"
   ]
  },
  {
   "cell_type": "code",
   "execution_count": null,
   "metadata": {},
   "outputs": [],
   "source": [
    "categories = ['https://netnews.com.mt/gabra/lokali', 'https://netnews.com.mt/gabra/internazzjonali', 'https://netnews.com.mt/gabra/sport']"
   ]
  },
  {
   "cell_type": "markdown",
   "metadata": {},
   "source": [
    "## Get number of pages for each category"
   ]
  },
  {
   "cell_type": "code",
   "execution_count": null,
   "metadata": {},
   "outputs": [],
   "source": [
    "class NetPageCountSpider(scrapy.Spider):\n",
    "    name = 'net_page_count'\n",
    "    start_urls = [f\"{url}/page/2/\" for url in categories]\n",
    "    handle_httpstatus_list = [404]\n",
    "    custom_settings = {\n",
    "            'FEEDS': { 'page_counts.csv': { 'format': 'csv',}},\n",
    "            'DOWNLOAD_DELAY': 1,\n",
    "            'CONCURRENT_ITEMS':25,\n",
    "            'CONCURRENT_REQUESTS':25,\n",
    "            'CONCURRENT_REQUESTS_PER_DOMAIN': 25,\n",
    "            'AUTOTHROTTLE_ENABLED':False,\n",
    "            'RANDOMIZE_DOWNLOAD_DELAY': False\n",
    "    }\n",
    "\n",
    "    def parse(self, response):\n",
    "        if response.status == 404:\n",
    "            category = response.request.url.split('/page/')[0]\n",
    "            yield {\"Category\": category, \"Count\": 1}\n",
    "            \n",
    "        title = response.xpath('//title/text()').get()\n",
    "        match = re.search(r'of (\\d+)', title)\n",
    "        if match:\n",
    "            category = response.request.url.split('/page/')[0]\n",
    "            if any(c == category for c in categories):\n",
    "                yield {\"Category\": category, \"Count\": int(match.group(1))}"
   ]
  },
  {
   "cell_type": "code",
   "execution_count": null,
   "metadata": {},
   "outputs": [],
   "source": [
    "process = CrawlerProcess()\n",
    "process.crawl(NetPageCountSpider)\n",
    "process.start()"
   ]
  },
  {
   "cell_type": "markdown",
   "metadata": {},
   "source": [
    "## Crawl article links"
   ]
  },
  {
   "cell_type": "code",
   "execution_count": 6,
   "metadata": {},
   "outputs": [],
   "source": [
    "df = pd.read_csv('page_counts.csv')\n",
    "page_counts = dict(zip(df['Category'], df['Count']))"
   ]
  },
  {
   "cell_type": "code",
   "execution_count": null,
   "metadata": {},
   "outputs": [],
   "source": [
    "page_counts"
   ]
  },
  {
   "cell_type": "code",
   "execution_count": null,
   "metadata": {},
   "outputs": [],
   "source": [
    "class NetLinksSpider(scrapy.Spider):\n",
    "    name = \"net_links\"\n",
    "    start_urls = [f\"{category}/page/{i}/\" for category in categories for i in range(1, page_counts[category] + 1)]\n",
    "    custom_settings = {\n",
    "            'FEEDS': { 'net_links.csv': { 'format': 'csv',}},\n",
    "            'DOWNLOAD_DELAY': 1,\n",
    "            'CONCURRENT_ITEMS':25,\n",
    "            'CONCURRENT_REQUESTS':25,\n",
    "            'CONCURRENT_REQUESTS_PER_DOMAIN': 25,\n",
    "            'AUTOTHROTTLE_ENABLED':False,\n",
    "            'RANDOMIZE_DOWNLOAD_DELAY': False\n",
    "    }\n",
    "\n",
    "    def parse(self, response):\n",
    "        hrefs = response.xpath('//h2[@class=\"entry-title h3\"]/a/@href')\n",
    "        \n",
    "        for href in hrefs: \n",
    "            yield {\"0\": href.get()}\n"
   ]
  },
  {
   "cell_type": "code",
   "execution_count": null,
   "metadata": {},
   "outputs": [],
   "source": [
    "process = CrawlerProcess()\n",
    "process.crawl(NetLinksSpider)\n",
    "process.start()"
   ]
  },
  {
   "cell_type": "markdown",
   "metadata": {},
   "source": [
    "## Clean articles list"
   ]
  },
  {
   "cell_type": "code",
   "execution_count": null,
   "metadata": {},
   "outputs": [],
   "source": [
    "df = pd.read_csv(\"net_links.csv\")\n",
    "print(f\"Unfiltered = {len(df)} articles\")\n",
    "\n",
    "unique_links = list()\n",
    "seen_elements = set()\n",
    "\n",
    "links  = df.iloc[:, 0].tolist()\n",
    "\n",
    "for l in links:\n",
    "    if l not in seen_elements:\n",
    "        unique_links.append(l)\n",
    "        seen_elements.add(l)\n",
    "\n",
    "print(f\"Filtered = {len(unique_links)} articles\")"
   ]
  },
  {
   "cell_type": "markdown",
   "metadata": {},
   "source": [
    "## Scrape articles text"
   ]
  },
  {
   "cell_type": "code",
   "execution_count": null,
   "metadata": {},
   "outputs": [],
   "source": [
    "class NetTextSpider(scrapy.Spider):\n",
    "    name = \"net_text\"\n",
    "    start_urls = unique_links\n",
    "    custom_settings = {\n",
    "        'DOWNLOAD_DELAY': 1,\n",
    "        'CONCURRENT_ITEMS':25,\n",
    "        'CONCURRENT_REQUESTS':25,\n",
    "        'CONCURRENT_REQUESTS_PER_DOMAIN': 25,\n",
    "        'AUTOTHROTTLE_ENABLED':False,\n",
    "        'RANDOMIZE_DOWNLOAD_DELAY': False\n",
    "\t\t}\n",
    "\n",
    "    def parse(self, response):\n",
    "        div = response.xpath('//div[@class=\"entry-content herald-entry-content\"]')\n",
    "        paragraphs = div.xpath('.//p/text()').getall()\n",
    "        strings = [str(p).strip() for p in paragraphs]\n",
    "\n",
    "        with open('net.txt', 'a') as file:\n",
    "            file.write('\\n'.join(strings) + '\\n')\n",
    "        \n",
    "        current_url = response.request.url\n",
    "        log = {\"index\": unique_links.index(current_url), \"url\": current_url}\n",
    "        with open('log.json', 'w') as json_file:\n",
    "            json.dump(log, json_file, indent=2)"
   ]
  },
  {
   "cell_type": "code",
   "execution_count": null,
   "metadata": {},
   "outputs": [],
   "source": [
    "process = CrawlerProcess()\n",
    "process.crawl(NetTextSpider)\n",
    "process.start()"
   ]
  }
 ],
 "metadata": {
  "kernelspec": {
   "display_name": "Python 3",
   "language": "python",
   "name": "python3"
  },
  "language_info": {
   "codemirror_mode": {
    "name": "ipython",
    "version": 3
   },
   "file_extension": ".py",
   "mimetype": "text/x-python",
   "name": "python",
   "nbconvert_exporter": "python",
   "pygments_lexer": "ipython3",
   "version": "3.11.7"
  }
 },
 "nbformat": 4,
 "nbformat_minor": 2
}
